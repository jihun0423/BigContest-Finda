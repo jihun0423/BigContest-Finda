{
 "cells": [
  {
   "cell_type": "code",
   "execution_count": 1,
   "id": "68193089",
   "metadata": {},
   "outputs": [],
   "source": [
    "import pandas as pd\n",
    "dat = pd.read_csv(\"C:\\\\Users\\\\com\\\\Downloads\\\\dat_d.csv\")"
   ]
  },
  {
   "cell_type": "code",
   "execution_count": 2,
   "id": "6d160332",
   "metadata": {},
   "outputs": [],
   "source": [
    "import numpy as np\n",
    "import pandas as pd\n",
    "\n",
    "dat['income_type'] = dat['income_type'].replace({'EARNEDINCOME':1,'EARNEDINCOME2':2,'FREELANCER':3,'OTHERINCOME':4,'PRACTITIONER':5,\n",
    "                                                'PRIVATEBUSINESS':6}).astype('category')\n",
    "dat['purpose'] = dat['purpose'].replace({'대환대출':1,'SWITCHLOAN':1,'생활비':2,'LIVING':2,'주택구입':3,'BUYHOUSE':3,'자동차구입':4,\n",
    "                                        'BUYCAR':4,'사업자금':5,'BUSINESS':5,'투자':6,'INVEST':6,'전월세보증금':7,'HOUSEDEPOSIT':7,\n",
    "                                        '기타':8,'ETC':8}).astype('category')\n",
    "dat['houseown_type']=dat['houseown_type'].replace({'전월세':1,'자가':2,'배우자':3,'기타가족소유':4}).astype('category')\n",
    "dat['employment_type']=dat['employment_type'].replace({'정규직':1,'계약직':2,'일용직':3,'기타':4}).astype('category')\n",
    "\n",
    "# 라벨인코딩\n",
    "\n",
    "dat['personal_rehabilitation_complete_yn'] = dat['personal_rehabilitation_complete_yn'].astype('category')\n",
    "dat['is_applied'] = dat['is_applied'].astype('category')\n",
    "dat['exloan'] = dat['exloan'].astype('category')\n",
    "dat['age'] = dat['age'].astype('category')\n",
    "dat['work_rank']=dat['work_rank'].astype('category')\n",
    "dat['yearly_income']=dat['yearly_income'].astype('float32')\n",
    "dat['desired_amount']=dat['desired_amount'].astype('float32')\n",
    "dat['loan_limit']=dat['loan_limit'].astype('float32')\n",
    "dat['loan_rate']=dat['loan_rate'].astype('float16')\n",
    "dat['credit_score']=dat['credit_score'].astype('int16')\n",
    "dat['work_time'] = dat['work_time'].astype('float32')\n",
    "dat['existing_loan_amt']=dat['existing_loan_amt'].astype('float32')\n",
    "dat['existing_loan_cnt']=dat['existing_loan_cnt'].astype('float16')\n",
    "\n",
    "# 메모리 크기를 줄이기 위하여 타입 변경.\n"
   ]
  },
  {
   "cell_type": "code",
   "execution_count": 3,
   "id": "eb64c347",
   "metadata": {},
   "outputs": [],
   "source": [
    "from sklearn.model_selection import train_test_split\n",
    "feature = dat.drop(columns='is_applied')\n",
    "target = dat['is_applied']\n",
    "X_train,X_test,y_train,y_test = train_test_split(feature,target,random_state=2,stratify=target)"
   ]
  },
  {
   "cell_type": "code",
   "execution_count": null,
   "id": "8efabd38",
   "metadata": {},
   "outputs": [],
   "source": []
  },
  {
   "cell_type": "code",
   "execution_count": null,
   "id": "1c3d34c9",
   "metadata": {},
   "outputs": [],
   "source": [
    "from sklearn.ensemble import RandomForestClassifier\n",
    "\n",
    "rforest = RandomForestClassifier()\n",
    "rforest.fit(X_train,y_train)\n",
    "y_pred = rforest.predict(X_test)\n",
    "\n",
    "from sklearn.metrics import confusion_matrix, classification_report, f1_score\n",
    "\n",
    "classification_report(y_pred,y_test)\n",
    "f1_score(y_pred,y_test)"
   ]
  },
  {
   "cell_type": "code",
   "execution_count": null,
   "id": "35a8911c",
   "metadata": {},
   "outputs": [],
   "source": [
    "from sklearn.tree import DecisionTreeClassifier\n",
    "\n",
    "dtree = DecisionTreeClassifier()\n",
    "dtree.fit(X_train,y_train)\n",
    "y_pred = dtree.predict(X_test)\n",
    "\n",
    "from sklearn.metrics import confusion_matrix, classification_report, f1_score\n",
    "\n",
    "classification_report(y_pred,y_test)\n",
    "f1_score(y_pred,y_test)"
   ]
  },
  {
   "cell_type": "code",
   "execution_count": null,
   "id": "d366381b",
   "metadata": {},
   "outputs": [],
   "source": [
    "from sklearn.neighbors import KNeighborsClassifier\n",
    "\n",
    "knn = KNeighborsClassifier()\n",
    "knn.fit(X_train,y_train)\n",
    "y_pred = knn.predict(X_test)\n",
    "\n",
    "from sklearn.metrics import confusion_matrix, classification_report, f1_score\n",
    "\n",
    "classification_report(y_pred,y_test)\n",
    "f1_score(y_pred,y_test)"
   ]
  },
  {
   "cell_type": "code",
   "execution_count": null,
   "id": "cc46dd3b",
   "metadata": {},
   "outputs": [],
   "source": [
    "from sklearn.linear_model import LogisticRegression \n",
    "lr = LogisticRegression() \n",
    "lr.fit(X_train,y_train)\n",
    "y_pred = lr.predict(X_test)\n",
    "\n",
    "from sklearn.metrics import confusion_matrix, classification_report, f1_score\n",
    "\n",
    "classification_report(y_pred,y_test)\n",
    "f1_score(y_pred,y_test)"
   ]
  },
  {
   "cell_type": "code",
   "execution_count": null,
   "id": "e79d8189",
   "metadata": {},
   "outputs": [],
   "source": [
    "from xgboost import XGBClassifier\n",
    "xgb = XGBClassifier()\n",
    "xgb.fit(X_train,y_train)\n",
    "y_pred = xgb.predict(X_test)\n",
    "\n",
    "from sklearn.metrics import confusion_matrix, classification_report, f1_score\n",
    "\n",
    "classification_report(y_pred,y_test)\n",
    "f1_score(y_pred,y_test)"
   ]
  },
  {
   "cell_type": "code",
   "execution_count": null,
   "id": "c2f1787b",
   "metadata": {},
   "outputs": [],
   "source": []
  },
  {
   "cell_type": "code",
   "execution_count": null,
   "id": "a9445079",
   "metadata": {},
   "outputs": [],
   "source": []
  },
  {
   "cell_type": "code",
   "execution_count": null,
   "id": "99cbc4fb",
   "metadata": {},
   "outputs": [],
   "source": [
    "from sklearn.ensemble import RandomForestClassifier\n",
    "\n",
    "feature = dat.drop(columns='is_applied')\n",
    "target = dat['is_applied']\n",
    "X_train,X_test,y_train,y_test = train_test_split(feature,target,shuffle=True,random_state=2,stratify=target)\n",
    "\n",
    "\n",
    "from sklearn.model_selection import StratifiedKFold\n",
    "skf = StratifiedKFold(n_splits=5,shuffle=True,random_state=2)\n",
    "\n",
    "from sklearn.model_selection import GridSearchCV\n",
    "\n",
    "params = {'n_estimators' : [100,200,300],\n",
    "          'max_depth' : [10,20,30],\n",
    "          'max_features': [0.1,0.3,0.5,0.7],\n",
    "          'min_samples_split' : [2,5,10]}\n",
    "grid_search = GridSearchCV(RandomForestClassifier(),params,scoring='f1',cv=skf)\n",
    "grid_search.fit(X_train,y_train)"
   ]
  },
  {
   "cell_type": "code",
   "execution_count": null,
   "id": "e5036430",
   "metadata": {},
   "outputs": [],
   "source": [
    "print('그리드 서치 결과 가장 높은 f1 score : {}'.format(grid_search.best_score_))\n",
    "print('그리드 서치 결과 가장 좋은 초매개변수 : {}'.format(grid_search.best_params_))\n",
    "rf_grid_score = grid_search.score(X_test,y_test)\n",
    "print('테스트 데이터 f1 score : {}'.format(grid_search.score(X_test,y_test)))"
   ]
  },
  {
   "cell_type": "code",
   "execution_count": null,
   "id": "e40b0e87",
   "metadata": {},
   "outputs": [],
   "source": []
  },
  {
   "cell_type": "code",
   "execution_count": null,
   "id": "fe9d26e6",
   "metadata": {},
   "outputs": [],
   "source": [
    "from sklearn.neighbors import KNeighborsClassifier\n",
    "\n",
    "from sklearn.model_selection import StratifiedKFold\n",
    "skf = StratifiedKFold(n_splits=5,shuffle=True,random_state=2)\n",
    "\n",
    "params = {\n",
    "    'n_neighbors' : list(range(1,20)),\n",
    "    'weights' : [\"uniform\", \"distance\"],\n",
    "    'metric' : ['euclidean', 'manhattan', 'minkowski']\n",
    "}\n",
    "\n",
    "grid_search = GridSearchCV(KNeighborsClassifier(),params,scoring='f1',cv=skf)\n",
    "grid_search.fit(X_train,y_train)\n",
    "print('그리드 서치 결과 가장 높은 f1 score : {}'.format(grid_search.best_score_))\n",
    "print('그리드 서치 결과 가장 좋은 초매개변수 : {}'.format(grid_search.best_params_))\n",
    "knn_grid_score = grid_search.score(X_test,y_test)\n",
    "print('테스트 데이터 f1 score : {}'.format(grid_search.score(X_test,y_test)))"
   ]
  },
  {
   "cell_type": "code",
   "execution_count": null,
   "id": "405aa477",
   "metadata": {},
   "outputs": [],
   "source": []
  },
  {
   "cell_type": "code",
   "execution_count": null,
   "id": "f8885be2",
   "metadata": {},
   "outputs": [],
   "source": [
    "from sklearn.linear_model import LogisticRegression \n",
    "\n",
    "from sklearn.model_selection import StratifiedKFold\n",
    "skf = StratifiedKFold(n_splits=5,shuffle=True,random_state=2)\n",
    "\n",
    "params = {'C': [0.001, 0.01, 0.1, 1, 10, 100],\n",
    "              'penalty': ['l1', 'l2']}\n",
    "\n",
    "grid_search = GridSearchCV(LogisticRegression(),params,scoring='f1',cv=skf)\n",
    "grid_search.fit(X_train,y_train)\n",
    "print('그리드 서치 결과 가장 높은 f1 score : {}'.format(grid_search.best_score_))\n",
    "print('그리드 서치 결과 가장 좋은 초매개변수 : {}'.format(grid_search.best_params_))\n",
    "lr_grid_score = grid_search.score(X_test,y_test)\n",
    "print('테스트 데이터 f1 score : {}'.format(grid_search.score(X_test,y_test))"
   ]
  },
  {
   "cell_type": "code",
   "execution_count": null,
   "id": "ae44f78b",
   "metadata": {},
   "outputs": [],
   "source": [
    "from xgboost import XGBClassifier\n",
    "\n",
    "from sklearn.model_selection import StratifiedKFold\n",
    "skf = StratifiedKFold(n_splits=5,shuffle=True,random_state=2)\n",
    "\n",
    "params = {\"max_depth\": [10,30,50],\n",
    "              \"min_child_weight\" : [1,3,6,10],\n",
    "              \"n_estimators\": [200,300,500,1000]\n",
    "              }    \n",
    "\n",
    "grid_search = GridSearchCV(XGBClassifier(),params,scoring='f1',cv=skf)\n",
    "grid_search.fit(X_train,y_train)\n",
    "print('그리드 서치 결과 가장 높은 f1 score : {}'.format(grid_search.best_score_))\n",
    "print('그리드 서치 결과 가장 좋은 초매개변수 : {}'.format(grid_search.best_params_))\n",
    "lr_grid_score = grid_search.score(X_test,y_test)\n",
    "print('테스트 데이터 f1 score : {}'.format(grid_search.score(X_test,y_test))"
   ]
  },
  {
   "cell_type": "code",
   "execution_count": null,
   "id": "000d6937",
   "metadata": {},
   "outputs": [],
   "source": []
  },
  {
   "cell_type": "code",
   "execution_count": null,
   "id": "82820a09",
   "metadata": {},
   "outputs": [],
   "source": []
  },
  {
   "cell_type": "code",
   "execution_count": null,
   "id": "66e46519",
   "metadata": {},
   "outputs": [],
   "source": []
  },
  {
   "cell_type": "code",
   "execution_count": null,
   "id": "f743fbed",
   "metadata": {},
   "outputs": [],
   "source": []
  },
  {
   "cell_type": "code",
   "execution_count": null,
   "id": "6c417590",
   "metadata": {},
   "outputs": [],
   "source": [
    "knn_clf  = KNeighborsClassifier(n_neighbors=4)\n",
    "lr_clf = LogisticRegression()\n",
    "rf_clf = RandomForestClassifier(n_estimators=100, random_state=0)\n",
    "dt_clf = DecisionTreeClassifier()\n",
    "ada_clf = AdaBoostClassifier(n_estimators=100)\n",
    "\n",
    "def get_stacking_data(model, X_train, y_train, X_test, n_folds = 5 ):\n",
    "    stk = StratifiedKFold(n_split=n_folds,random_state=2)\n",
    "\n",
    "    #추후에 메타 모델이 사용할 학습 데이터 반환을 위한 넘파이 배열 초기화 \n",
    "    train_fold_pred = np.zeros((X_train.shape[0] ,1 ))\n",
    "    test_pred = np.zeros((X_test.shape[0],n_folds))\n",
    "\n",
    "    for cnt , (train_index, valid_index) in enumerate(skf.split(X_train,y_train)):\n",
    "        #입력된 학습 데이터에서 기반 모델이 학습/예측할 폴드 데이터 셋 추출 \n",
    "        X_tr = X_train[train_index] \n",
    "        y_tr = y_train[train_index] \n",
    "        X_te = X_train[valid_index]  \n",
    "\n",
    "        #폴드 세트 내부에서 다시 만들어진 학습 데이터로 기반 모델의 학습 수행.\n",
    "        model.fit(X_tr , y_tr)       \n",
    "        #폴드 세트 내부에서 다시 만들어진 검증 데이터로 기반 모델 예측 후 데이터 저장.\n",
    "        train_fold_pred[valid_index, :] = model.predict(X_te).reshape(-1,1)\n",
    "        #입력된 원본 테스트 데이터를 폴드 세트내 학습된 기반 모델에서 예측 후 데이터 저장. \n",
    "        test_pred[:, cnt] = model.predict(X_test)\n",
    "   \n",
    "    # 폴드 세트 내에서 원본 테스트 데이터를 예측한 데이터를 평균하여 테스트 데이터로 생성 \n",
    "    test_pred_mean = np.mean(test_pred, axis=1).reshape(-1,1)    \n",
    "\n",
    "    #train_fold_pred는 최종 메타 모델이 사용하는 학습 데이터, test_pred_mean은 테스트 데이터\n",
    "    return train_fold_pred , test_pred_mean\n",
    "\n",
    "\n",
    "knn_train, knn_test = get_stacking_data(knn_clf, X_train, y_train, X_test, 5)\n",
    "rf_train, rf_test = get_stacking_data(rf_clf, X_train, y_train, X_test, 5)\n",
    "dt_train, dt_test = get_stacking_data(dt_clf, X_train, y_train, X_test,  5)    \n",
    "ada_train, ada_test = get_stacking_data(ada_clf, X_train, y_train, X_test, 5)\n",
    "\n",
    "Stack_final_X_train = np.concatenate((knn_train, rf_train, dt_train, ada_train), axis=1)\n",
    "Stack_final_X_test = np.concatenate((knn_test, rf_test, dt_test, ada_test), axis=1)\n",
    "print('원본 학습 피처 데이터 Shape:',X_train.shape, '원본 테스트 피처 Shape:',X_test.shape)\n",
    "print('스태킹 학습 피처 데이터 Shape:', Stack_final_X_train.shape,\n",
    "      '스태킹 테스트 피처 데이터 Shape:',Stack_final_X_test.shape)"
   ]
  },
  {
   "cell_type": "code",
   "execution_count": null,
   "id": "372ee678",
   "metadata": {},
   "outputs": [],
   "source": [
    "f1 = {'knn':knnscore,'rf':rfscore,'lr':lrscore,'knn_grid':knn_grid_score,'rf_grid':rf_grid_score,'lr':lr_grid_score}\n",
    "import matplotlib.pyplot as plt\n",
    "\n",
    "\n",
    "sort_dic = dict(sorted(f1.items(), key = lambda pair : pair[1], reverse = True ))\n",
    "print(sort_dic)\n",
    "names = list(sort_dic.keys())\n",
    "values = list(sort_dic.values())\n",
    "\n",
    "plt.barh(range(len(sort_dic)), values, tick_label=names)\n",
    "plt.show()"
   ]
  },
  {
   "cell_type": "code",
   "execution_count": null,
   "id": "cdee5d59",
   "metadata": {},
   "outputs": [],
   "source": []
  },
  {
   "cell_type": "code",
   "execution_count": 1,
   "id": "ae3e992f",
   "metadata": {},
   "outputs": [
    {
     "name": "stdout",
     "output_type": "stream",
     "text": [
      "{'stacking': 0.87, 'xgb_grid': 0.76, 'weighted': 0.76, 'rf_grid': 0.74, 'knn_grid': 0.68, 'softvote': 0.68, 'xgb': 0.67, 'rf': 0.65, 'knn': 0.59, 'dt_grid': 0.59, 'lr_grid': 0.54, 'dt': 0.53, 'lr': 0.47}\n"
     ]
    },
    {
     "data": {
      "image/png": "[encoded data removed]",
      "text/plain": [
       "<Figure size 432x288 with 1 Axes>"
      ]
     },
     "metadata": {
      "needs_background": "light"
     },
     "output_type": "display_data"
    }
   ],
   "source": [
    "a = {'knn':0.59,'xgb':0.67,'rf':0.65,'dt':0.53,'lr':0.47,'knn_grid':0.68,'xgb_grid':0.76,'rf_grid':0.74,'dt_grid':0.59,'lr_grid':0.54,\n",
    "     'stacking':0.87,'softvote':0.68,'weighted':0.76}\n",
    "\n",
    "import matplotlib.pyplot as plt\n",
    "sort_dic = dict(sorted( a.items(), key = lambda pair : pair[1], reverse = True ))\n",
    "print(sort_dic)\n",
    "names = list(sort_dic.keys())\n",
    "values = list(sort_dic.values())\n",
    "\n",
    "plt.barh(range(len(sort_dic)), values, tick_label=names)\n",
    "plt.show()"
   ]
  },
  {
   "cell_type": "code",
   "execution_count": null,
   "id": "8b4cc154",
   "metadata": {},
   "outputs": [],
   "source": []
  }
 ],
 "metadata": {
  "kernelspec": {
   "display_name": "Python 3 (ipykernel)",
   "language": "python",
   "name": "python3"
  },
  "language_info": {
   "codemirror_mode": {
    "name": "ipython",
    "version": 3
   },
   "file_extension": ".py",
   "mimetype": "text/x-python",
   "name": "python",
   "nbconvert_exporter": "python",
   "pygments_lexer": "ipython3",
   "version": "3.10.7"
  }
 },
 "nbformat": 4,
 "nbformat_minor": 5
}
