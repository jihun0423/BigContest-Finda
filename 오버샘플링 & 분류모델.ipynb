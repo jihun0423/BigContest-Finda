{
 "cells": [
  {
   "cell_type": "code",
   "execution_count": 1,
   "metadata": {
    "colab": {
     "base_uri": "https://localhost:8080/"
    },
    "executionInfo": {
     "elapsed": 20771,
     "status": "ok",
     "timestamp": 1669093499071,
     "user": {
      "displayName": "김지훈",
      "userId": "04907131410261793708"
     },
     "user_tz": -540
    },
    "id": "inlWOxNTxU_s",
    "outputId": "e523b625-adc4-47d8-b83e-3a867c89cbcb"
   },
   "outputs": [
    {
     "name": "stdout",
     "output_type": "stream",
     "text": [
      "Mounted at /content/drive\n"
     ]
    }
   ],
   "source": [
    "from google.colab import drive\n",
    "drive.mount('/content/drive')\n",
    "\n",
    "# 구글 드라이브 연결"
   ]
  },
  {
   "cell_type": "code",
   "execution_count": 2,
   "metadata": {
    "colab": {
     "base_uri": "https://localhost:8080/",
     "height": 206
    },
    "executionInfo": {
     "elapsed": 14548,
     "status": "ok",
     "timestamp": 1669093513614,
     "user": {
      "displayName": "김지훈",
      "userId": "04907131410261793708"
     },
     "user_tz": -540
    },
    "id": "QWXggUw_Fc1w",
    "outputId": "8cbb76de-5757-44c2-ecfc-c194ce64b795"
   },
   "outputs": [
    {
     "data": {
      "text/html": [
       "\n",
       "  <div id=\"df-21b4be52-515f-48ca-8ee7-5be6bdde36db\">\n",
       "    <div class=\"colab-df-container\">\n",
       "      <div>\n",
       "<style scoped>\n",
       "    .dataframe tbody tr th:only-of-type {\n",
       "        vertical-align: middle;\n",
       "    }\n",
       "\n",
       "    .dataframe tbody tr th {\n",
       "        vertical-align: top;\n",
       "    }\n",
       "\n",
       "    .dataframe thead th {\n",
       "        text-align: right;\n",
       "    }\n",
       "</style>\n",
       "<table border=\"1\" class=\"dataframe\">\n",
       "  <thead>\n",
       "    <tr style=\"text-align: right;\">\n",
       "      <th></th>\n",
       "      <th>credit_score</th>\n",
       "      <th>desired_amount</th>\n",
       "      <th>existing_loan_amt</th>\n",
       "      <th>loan_limit</th>\n",
       "      <th>loan_rate</th>\n",
       "      <th>is_applied</th>\n",
       "      <th>age</th>\n",
       "      <th>mean_exloan</th>\n",
       "    </tr>\n",
       "  </thead>\n",
       "  <tbody>\n",
       "    <tr>\n",
       "      <th>0</th>\n",
       "      <td>0.633333</td>\n",
       "      <td>0.509254</td>\n",
       "      <td>0.010117</td>\n",
       "      <td>0.0003</td>\n",
       "      <td>0.702703</td>\n",
       "      <td>0.0</td>\n",
       "      <td>0.342857</td>\n",
       "      <td>0.013018</td>\n",
       "    </tr>\n",
       "    <tr>\n",
       "      <th>1</th>\n",
       "      <td>0.633333</td>\n",
       "      <td>0.509254</td>\n",
       "      <td>0.010117</td>\n",
       "      <td>0.0001</td>\n",
       "      <td>0.994595</td>\n",
       "      <td>0.0</td>\n",
       "      <td>0.342857</td>\n",
       "      <td>0.013018</td>\n",
       "    </tr>\n",
       "    <tr>\n",
       "      <th>2</th>\n",
       "      <td>0.488889</td>\n",
       "      <td>0.428437</td>\n",
       "      <td>0.008520</td>\n",
       "      <td>0.0030</td>\n",
       "      <td>0.886486</td>\n",
       "      <td>1.0</td>\n",
       "      <td>0.385714</td>\n",
       "      <td>0.016444</td>\n",
       "    </tr>\n",
       "    <tr>\n",
       "      <th>3</th>\n",
       "      <td>0.677778</td>\n",
       "      <td>0.405797</td>\n",
       "      <td>0.003727</td>\n",
       "      <td>0.0009</td>\n",
       "      <td>0.427027</td>\n",
       "      <td>0.0</td>\n",
       "      <td>0.042857</td>\n",
       "      <td>0.007194</td>\n",
       "    </tr>\n",
       "    <tr>\n",
       "      <th>4</th>\n",
       "      <td>0.677778</td>\n",
       "      <td>0.405797</td>\n",
       "      <td>0.003727</td>\n",
       "      <td>0.0010</td>\n",
       "      <td>0.664865</td>\n",
       "      <td>0.0</td>\n",
       "      <td>0.042857</td>\n",
       "      <td>0.007194</td>\n",
       "    </tr>\n",
       "  </tbody>\n",
       "</table>\n",
       "</div>\n",
       "      <button class=\"colab-df-convert\" onclick=\"convertToInteractive('df-21b4be52-515f-48ca-8ee7-5be6bdde36db')\"\n",
       "              title=\"Convert this dataframe to an interactive table.\"\n",
       "              style=\"display:none;\">\n",
       "        \n",
       "  <svg xmlns=\"http://www.w3.org/2000/svg\" height=\"24px\"viewBox=\"0 0 24 24\"\n",
       "       width=\"24px\">\n",
       "    <path d=\"M0 0h24v24H0V0z\" fill=\"none\"/>\n",
       "    <path d=\"M18.56 5.44l.94 2.06.94-2.06 2.06-.94-2.06-.94-.94-2.06-.94 2.06-2.06.94zm-11 1L8.5 8.5l.94-2.06 2.06-.94-2.06-.94L8.5 2.5l-.94 2.06-2.06.94zm10 10l.94 2.06.94-2.06 2.06-.94-2.06-.94-.94-2.06-.94 2.06-2.06.94z\"/><path d=\"M17.41 7.96l-1.37-1.37c-.4-.4-.92-.59-1.43-.59-.52 0-1.04.2-1.43.59L10.3 9.45l-7.72 7.72c-.78.78-.78 2.05 0 2.83L4 21.41c.39.39.9.59 1.41.59.51 0 1.02-.2 1.41-.59l7.78-7.78 2.81-2.81c.8-.78.8-2.07 0-2.86zM5.41 20L4 18.59l7.72-7.72 1.47 1.35L5.41 20z\"/>\n",
       "  </svg>\n",
       "      </button>\n",
       "      \n",
       "  <style>\n",
       "    .colab-df-container {\n",
       "      display:flex;\n",
       "      flex-wrap:wrap;\n",
       "      gap: 12px;\n",
       "    }\n",
       "\n",
       "    .colab-df-convert {\n",
       "      background-color: #E8F0FE;\n",
       "      border: none;\n",
       "      border-radius: 50%;\n",
       "      cursor: pointer;\n",
       "      display: none;\n",
       "      fill: #1967D2;\n",
       "      height: 32px;\n",
       "      padding: 0 0 0 0;\n",
       "      width: 32px;\n",
       "    }\n",
       "\n",
       "    .colab-df-convert:hover {\n",
       "      background-color: #E2EBFA;\n",
       "      box-shadow: 0px 1px 2px rgba(60, 64, 67, 0.3), 0px 1px 3px 1px rgba(60, 64, 67, 0.15);\n",
       "      fill: #174EA6;\n",
       "    }\n",
       "\n",
       "    [theme=dark] .colab-df-convert {\n",
       "      background-color: #3B4455;\n",
       "      fill: #D2E3FC;\n",
       "    }\n",
       "\n",
       "    [theme=dark] .colab-df-convert:hover {\n",
       "      background-color: #434B5C;\n",
       "      box-shadow: 0px 1px 3px 1px rgba(0, 0, 0, 0.15);\n",
       "      filter: drop-shadow(0px 1px 2px rgba(0, 0, 0, 0.3));\n",
       "      fill: #FFFFFF;\n",
       "    }\n",
       "  </style>\n",
       "\n",
       "      <script>\n",
       "        const buttonEl =\n",
       "          document.querySelector('#df-21b4be52-515f-48ca-8ee7-5be6bdde36db button.colab-df-convert');\n",
       "        buttonEl.style.display =\n",
       "          google.colab.kernel.accessAllowed ? 'block' : 'none';\n",
       "\n",
       "        async function convertToInteractive(key) {\n",
       "          const element = document.querySelector('#df-21b4be52-515f-48ca-8ee7-5be6bdde36db');\n",
       "          const dataTable =\n",
       "            await google.colab.kernel.invokeFunction('convertToInteractive',\n",
       "                                                     [key], {});\n",
       "          if (!dataTable) return;\n",
       "\n",
       "          const docLinkHtml = 'Like what you see? Visit the ' +\n",
       "            '<a target=\"_blank\" href=https://colab.research.google.com/notebooks/data_table.ipynb>data table notebook</a>'\n",
       "            + ' to learn more about interactive tables.';\n",
       "          element.innerHTML = '';\n",
       "          dataTable['output_type'] = 'display_data';\n",
       "          await google.colab.output.renderOutput(dataTable, element);\n",
       "          const docLink = document.createElement('div');\n",
       "          docLink.innerHTML = docLinkHtml;\n",
       "          element.appendChild(docLink);\n",
       "        }\n",
       "      </script>\n",
       "    </div>\n",
       "  </div>\n",
       "  "
      ],
      "text/plain": [
       "   credit_score  desired_amount  existing_loan_amt  loan_limit  loan_rate  \\\n",
       "0      0.633333        0.509254           0.010117      0.0003   0.702703   \n",
       "1      0.633333        0.509254           0.010117      0.0001   0.994595   \n",
       "2      0.488889        0.428437           0.008520      0.0030   0.886486   \n",
       "3      0.677778        0.405797           0.003727      0.0009   0.427027   \n",
       "4      0.677778        0.405797           0.003727      0.0010   0.664865   \n",
       "\n",
       "   is_applied       age  mean_exloan  \n",
       "0         0.0  0.342857     0.013018  \n",
       "1         0.0  0.342857     0.013018  \n",
       "2         1.0  0.385714     0.016444  \n",
       "3         0.0  0.042857     0.007194  \n",
       "4         0.0  0.042857     0.007194  "
      ]
     },
     "execution_count": 2,
     "metadata": {},
     "output_type": "execute_result"
    }
   ],
   "source": [
    "import pandas as pd\n",
    "filename = '/content/drive/My Drive/data1_scale.csv'\n",
    "dat = pd.read_csv(filename)\n",
    "dat.head()\n",
    "\n",
    "# 드라이브에서 파일 불러오기"
   ]
  },
  {
   "cell_type": "code",
   "execution_count": null,
   "metadata": {},
   "outputs": [],
   "source": []
  },
  {
   "cell_type": "code",
   "execution_count": 1,
   "metadata": {},
   "outputs": [],
   "source": [
    "import pandas as pd\n",
    "dat = pd.read_csv('C:\\\\Users\\\\jihun\\\\Downloads\\\\data1_scale.csv')"
   ]
  },
  {
   "cell_type": "code",
   "execution_count": 3,
   "metadata": {
    "colab": {
     "base_uri": "https://localhost:8080/",
     "height": 300
    },
    "executionInfo": {
     "elapsed": 2851,
     "status": "ok",
     "timestamp": 1669093537867,
     "user": {
      "displayName": "김지훈",
      "userId": "04907131410261793708"
     },
     "user_tz": -540
    },
    "id": "D_sUGlYAcVjf",
    "outputId": "5d3c270e-9a01-4bd4-b6f6-c4240aa71013"
   },
   "outputs": [
    {
     "data": {
      "text/html": [
       "\n",
       "  <div id=\"df-ec9530c8-0649-4bbe-9fde-9ce0ff35e550\">\n",
       "    <div class=\"colab-df-container\">\n",
       "      <div>\n",
       "<style scoped>\n",
       "    .dataframe tbody tr th:only-of-type {\n",
       "        vertical-align: middle;\n",
       "    }\n",
       "\n",
       "    .dataframe tbody tr th {\n",
       "        vertical-align: top;\n",
       "    }\n",
       "\n",
       "    .dataframe thead th {\n",
       "        text-align: right;\n",
       "    }\n",
       "</style>\n",
       "<table border=\"1\" class=\"dataframe\">\n",
       "  <thead>\n",
       "    <tr style=\"text-align: right;\">\n",
       "      <th></th>\n",
       "      <th>credit_score</th>\n",
       "      <th>desired_amount</th>\n",
       "      <th>existing_loan_amt</th>\n",
       "      <th>loan_limit</th>\n",
       "      <th>loan_rate</th>\n",
       "      <th>is_applied</th>\n",
       "      <th>age</th>\n",
       "      <th>mean_exloan</th>\n",
       "    </tr>\n",
       "  </thead>\n",
       "  <tbody>\n",
       "    <tr>\n",
       "      <th>count</th>\n",
       "      <td>8.014178e+06</td>\n",
       "      <td>8.014178e+06</td>\n",
       "      <td>8.014178e+06</td>\n",
       "      <td>8.014178e+06</td>\n",
       "      <td>8.014178e+06</td>\n",
       "      <td>8.014178e+06</td>\n",
       "      <td>8.014178e+06</td>\n",
       "      <td>8.014178e+06</td>\n",
       "    </tr>\n",
       "    <tr>\n",
       "      <th>mean</th>\n",
       "      <td>7.179291e-01</td>\n",
       "      <td>4.923586e-01</td>\n",
       "      <td>9.350715e-03</td>\n",
       "      <td>2.218897e-03</td>\n",
       "      <td>6.125051e-01</td>\n",
       "      <td>5.405595e-02</td>\n",
       "      <td>2.899108e-01</td>\n",
       "      <td>1.084055e-02</td>\n",
       "    </tr>\n",
       "    <tr>\n",
       "      <th>std</th>\n",
       "      <td>1.408846e-01</td>\n",
       "      <td>1.696780e-01</td>\n",
       "      <td>1.266045e-02</td>\n",
       "      <td>2.247384e-03</td>\n",
       "      <td>2.088818e-01</td>\n",
       "      <td>2.261281e-01</td>\n",
       "      <td>1.349975e-01</td>\n",
       "      <td>1.623827e-02</td>\n",
       "    </tr>\n",
       "    <tr>\n",
       "      <th>min</th>\n",
       "      <td>0.000000e+00</td>\n",
       "      <td>0.000000e+00</td>\n",
       "      <td>0.000000e+00</td>\n",
       "      <td>0.000000e+00</td>\n",
       "      <td>0.000000e+00</td>\n",
       "      <td>0.000000e+00</td>\n",
       "      <td>0.000000e+00</td>\n",
       "      <td>0.000000e+00</td>\n",
       "    </tr>\n",
       "    <tr>\n",
       "      <th>25%</th>\n",
       "      <td>6.000000e-01</td>\n",
       "      <td>3.642888e-01</td>\n",
       "      <td>1.863685e-03</td>\n",
       "      <td>9.000000e-04</td>\n",
       "      <td>4.432432e-01</td>\n",
       "      <td>0.000000e+00</td>\n",
       "      <td>1.857143e-01</td>\n",
       "      <td>2.569373e-03</td>\n",
       "    </tr>\n",
       "    <tr>\n",
       "      <th>50%</th>\n",
       "      <td>7.000000e-01</td>\n",
       "      <td>5.092539e-01</td>\n",
       "      <td>5.324814e-03</td>\n",
       "      <td>1.700000e-03</td>\n",
       "      <td>6.378378e-01</td>\n",
       "      <td>0.000000e+00</td>\n",
       "      <td>2.857143e-01</td>\n",
       "      <td>6.509079e-03</td>\n",
       "    </tr>\n",
       "    <tr>\n",
       "      <th>75%</th>\n",
       "      <td>8.333333e-01</td>\n",
       "      <td>6.189157e-01</td>\n",
       "      <td>1.118211e-02</td>\n",
       "      <td>3.200000e-03</td>\n",
       "      <td>7.729730e-01</td>\n",
       "      <td>0.000000e+00</td>\n",
       "      <td>3.857143e-01</td>\n",
       "      <td>1.271840e-02</td>\n",
       "    </tr>\n",
       "    <tr>\n",
       "      <th>max</th>\n",
       "      <td>1.000000e+00</td>\n",
       "      <td>1.000000e+00</td>\n",
       "      <td>1.000000e+00</td>\n",
       "      <td>1.000000e+00</td>\n",
       "      <td>1.000000e+00</td>\n",
       "      <td>1.000000e+00</td>\n",
       "      <td>1.000000e+00</td>\n",
       "      <td>1.000000e+00</td>\n",
       "    </tr>\n",
       "  </tbody>\n",
       "</table>\n",
       "</div>\n",
       "      <button class=\"colab-df-convert\" onclick=\"convertToInteractive('df-ec9530c8-0649-4bbe-9fde-9ce0ff35e550')\"\n",
       "              title=\"Convert this dataframe to an interactive table.\"\n",
       "              style=\"display:none;\">\n",
       "        \n",
       "  <svg xmlns=\"http://www.w3.org/2000/svg\" height=\"24px\"viewBox=\"0 0 24 24\"\n",
       "       width=\"24px\">\n",
       "    <path d=\"M0 0h24v24H0V0z\" fill=\"none\"/>\n",
       "    <path d=\"M18.56 5.44l.94 2.06.94-2.06 2.06-.94-2.06-.94-.94-2.06-.94 2.06-2.06.94zm-11 1L8.5 8.5l.94-2.06 2.06-.94-2.06-.94L8.5 2.5l-.94 2.06-2.06.94zm10 10l.94 2.06.94-2.06 2.06-.94-2.06-.94-.94-2.06-.94 2.06-2.06.94z\"/><path d=\"M17.41 7.96l-1.37-1.37c-.4-.4-.92-.59-1.43-.59-.52 0-1.04.2-1.43.59L10.3 9.45l-7.72 7.72c-.78.78-.78 2.05 0 2.83L4 21.41c.39.39.9.59 1.41.59.51 0 1.02-.2 1.41-.59l7.78-7.78 2.81-2.81c.8-.78.8-2.07 0-2.86zM5.41 20L4 18.59l7.72-7.72 1.47 1.35L5.41 20z\"/>\n",
       "  </svg>\n",
       "      </button>\n",
       "      \n",
       "  <style>\n",
       "    .colab-df-container {\n",
       "      display:flex;\n",
       "      flex-wrap:wrap;\n",
       "      gap: 12px;\n",
       "    }\n",
       "\n",
       "    .colab-df-convert {\n",
       "      background-color: #E8F0FE;\n",
       "      border: none;\n",
       "      border-radius: 50%;\n",
       "      cursor: pointer;\n",
       "      display: none;\n",
       "      fill: #1967D2;\n",
       "      height: 32px;\n",
       "      padding: 0 0 0 0;\n",
       "      width: 32px;\n",
       "    }\n",
       "\n",
       "    .colab-df-convert:hover {\n",
       "      background-color: #E2EBFA;\n",
       "      box-shadow: 0px 1px 2px rgba(60, 64, 67, 0.3), 0px 1px 3px 1px rgba(60, 64, 67, 0.15);\n",
       "      fill: #174EA6;\n",
       "    }\n",
       "\n",
       "    [theme=dark] .colab-df-convert {\n",
       "      background-color: #3B4455;\n",
       "      fill: #D2E3FC;\n",
       "    }\n",
       "\n",
       "    [theme=dark] .colab-df-convert:hover {\n",
       "      background-color: #434B5C;\n",
       "      box-shadow: 0px 1px 3px 1px rgba(0, 0, 0, 0.15);\n",
       "      filter: drop-shadow(0px 1px 2px rgba(0, 0, 0, 0.3));\n",
       "      fill: #FFFFFF;\n",
       "    }\n",
       "  </style>\n",
       "\n",
       "      <script>\n",
       "        const buttonEl =\n",
       "          document.querySelector('#df-ec9530c8-0649-4bbe-9fde-9ce0ff35e550 button.colab-df-convert');\n",
       "        buttonEl.style.display =\n",
       "          google.colab.kernel.accessAllowed ? 'block' : 'none';\n",
       "\n",
       "        async function convertToInteractive(key) {\n",
       "          const element = document.querySelector('#df-ec9530c8-0649-4bbe-9fde-9ce0ff35e550');\n",
       "          const dataTable =\n",
       "            await google.colab.kernel.invokeFunction('convertToInteractive',\n",
       "                                                     [key], {});\n",
       "          if (!dataTable) return;\n",
       "\n",
       "          const docLinkHtml = 'Like what you see? Visit the ' +\n",
       "            '<a target=\"_blank\" href=https://colab.research.google.com/notebooks/data_table.ipynb>data table notebook</a>'\n",
       "            + ' to learn more about interactive tables.';\n",
       "          element.innerHTML = '';\n",
       "          dataTable['output_type'] = 'display_data';\n",
       "          await google.colab.output.renderOutput(dataTable, element);\n",
       "          const docLink = document.createElement('div');\n",
       "          docLink.innerHTML = docLinkHtml;\n",
       "          element.appendChild(docLink);\n",
       "        }\n",
       "      </script>\n",
       "    </div>\n",
       "  </div>\n",
       "  "
      ],
      "text/plain": [
       "       credit_score  desired_amount  existing_loan_amt    loan_limit  \\\n",
       "count  8.014178e+06    8.014178e+06       8.014178e+06  8.014178e+06   \n",
       "mean   7.179291e-01    4.923586e-01       9.350715e-03  2.218897e-03   \n",
       "std    1.408846e-01    1.696780e-01       1.266045e-02  2.247384e-03   \n",
       "min    0.000000e+00    0.000000e+00       0.000000e+00  0.000000e+00   \n",
       "25%    6.000000e-01    3.642888e-01       1.863685e-03  9.000000e-04   \n",
       "50%    7.000000e-01    5.092539e-01       5.324814e-03  1.700000e-03   \n",
       "75%    8.333333e-01    6.189157e-01       1.118211e-02  3.200000e-03   \n",
       "max    1.000000e+00    1.000000e+00       1.000000e+00  1.000000e+00   \n",
       "\n",
       "          loan_rate    is_applied           age   mean_exloan  \n",
       "count  8.014178e+06  8.014178e+06  8.014178e+06  8.014178e+06  \n",
       "mean   6.125051e-01  5.405595e-02  2.899108e-01  1.084055e-02  \n",
       "std    2.088818e-01  2.261281e-01  1.349975e-01  1.623827e-02  \n",
       "min    0.000000e+00  0.000000e+00  0.000000e+00  0.000000e+00  \n",
       "25%    4.432432e-01  0.000000e+00  1.857143e-01  2.569373e-03  \n",
       "50%    6.378378e-01  0.000000e+00  2.857143e-01  6.509079e-03  \n",
       "75%    7.729730e-01  0.000000e+00  3.857143e-01  1.271840e-02  \n",
       "max    1.000000e+00  1.000000e+00  1.000000e+00  1.000000e+00  "
      ]
     },
     "execution_count": 3,
     "metadata": {},
     "output_type": "execute_result"
    }
   ],
   "source": [
    "dat.describe()"
   ]
  },
  {
   "cell_type": "code",
   "execution_count": 2,
   "metadata": {
    "executionInfo": {
     "elapsed": 2,
     "status": "ok",
     "timestamp": 1669093538950,
     "user": {
      "displayName": "김지훈",
      "userId": "04907131410261793708"
     },
     "user_tz": -540
    },
    "id": "a5UxCXLHGev7"
   },
   "outputs": [],
   "source": [
    "import numpy as np\n",
    "import pandas as pd\n",
    "\n",
    "\n",
    "dat['is_applied'] = dat['is_applied'].astype('category')\n",
    "\n",
    "\n",
    "# 타겟 데이터 타입 변경"
   ]
  },
  {
   "cell_type": "markdown",
   "metadata": {
    "id": "irAbf-cJTq4h"
   },
   "source": [
    "### train_test_split"
   ]
  },
  {
   "cell_type": "code",
   "execution_count": 3,
   "metadata": {
    "executionInfo": {
     "elapsed": 6116,
     "status": "ok",
     "timestamp": 1669093551743,
     "user": {
      "displayName": "김지훈",
      "userId": "04907131410261793708"
     },
     "user_tz": -540
    },
    "id": "gCt8PfmVF6W0"
   },
   "outputs": [],
   "source": [
    "from sklearn.model_selection import train_test_split\n",
    "feature = dat.drop(columns='is_applied')\n",
    "target = dat['is_applied']\n",
    "X_train,X_test,y_train,y_test = train_test_split(feature,target,test_size=0.2,random_state=2,stratify=target)\n",
    "\n",
    "# train, test 데이터로 분리."
   ]
  },
  {
   "cell_type": "code",
   "execution_count": 6,
   "metadata": {
    "executionInfo": {
     "elapsed": 91125,
     "status": "ok",
     "timestamp": 1669093648378,
     "user": {
      "displayName": "김지훈",
      "userId": "04907131410261793708"
     },
     "user_tz": -540
    },
    "id": "Ad7OGlgmk6lO"
   },
   "outputs": [],
   "source": [
    "X_train.to_csv(\"X_train.csv\",index=False)\n",
    "y_train.to_csv(\"y_train.csv\",index=False)\n",
    "X_test.to_csv(\"X_test.csv\",index=False)\n",
    "y_test.to_csv(\"y_test.csv\",index=False)\n",
    "\n",
    "# 기본 train, test 데이터 파일로 저장."
   ]
  },
  {
   "cell_type": "code",
   "execution_count": null,
   "metadata": {
    "id": "PG8PE0E1k6n1"
   },
   "outputs": [],
   "source": []
  },
  {
   "cell_type": "markdown",
   "metadata": {
    "id": "HCjwXNIpc5wd"
   },
   "source": [
    "### 언더샘플링"
   ]
  },
  {
   "cell_type": "code",
   "execution_count": 7,
   "metadata": {
    "colab": {
     "base_uri": "https://localhost:8080/"
    },
    "executionInfo": {
     "elapsed": 598115,
     "status": "ok",
     "timestamp": 1669094274270,
     "user": {
      "displayName": "김지훈",
      "userId": "04907131410261793708"
     },
     "user_tz": -540
    },
    "id": "jCOoLfd0c5zV",
    "outputId": "29bfa1fc-8244-432c-8715-8470e789854a"
   },
   "outputs": [
    {
     "name": "stdout",
     "output_type": "stream",
     "text": [
      "nearmiss 적용 전 학습용 피처/레이블 데이터 세트:  (6010633, 7) (6010633,)\n",
      "nearmiss 적용 후 학습용 피처/레이블 데이터 세트:  (649820, 7) (649820,)\n",
      "\n",
      " nearmiss 적용 전 레이블 값 분포: \n",
      " 0.0    5685723\n",
      "1.0     324910\n",
      "Name: is_applied, dtype: int64\n",
      "\n",
      " nearmiss 적용 후 레이블 값 분포: \n",
      " 0.0    324910\n",
      "1.0    324910\n",
      "Name: is_applied, dtype: int64\n"
     ]
    }
   ],
   "source": [
    "from imblearn.under_sampling import NearMiss\n",
    "\n",
    "nearmiss = NearMiss(version=1, n_neighbors=3)\n",
    "X_train_under, y_train_under = nearmiss.fit_resample(X_train,y_train)\n",
    "print('nearmiss 적용 전 학습용 피처/레이블 데이터 세트: ', X_train.shape, y_train.shape)\n",
    "print('nearmiss 적용 후 학습용 피처/레이블 데이터 세트: ', X_train_under.shape, y_train_under.shape)\n",
    "\n",
    "\n",
    "print('\\n nearmiss 적용 전 레이블 값 분포: \\n', pd.Series(y_train).value_counts())\n",
    "print('\\n nearmiss 적용 후 레이블 값 분포: \\n', pd.Series(y_train_under).value_counts())\n",
    "\n",
    "# nearmiss version 1 under sampling  "
   ]
  },
  {
   "cell_type": "code",
   "execution_count": 8,
   "metadata": {
    "executionInfo": {
     "elapsed": 7105,
     "status": "ok",
     "timestamp": 1669094281372,
     "user": {
      "displayName": "김지훈",
      "userId": "04907131410261793708"
     },
     "user_tz": -540
    },
    "id": "JK21glo8cNGt"
   },
   "outputs": [],
   "source": [
    "X_train_under.to_csv(\"X_train_under.csv\",index=False)\n",
    "y_train_under.to_csv(\"y_train_under.csv\",index=False)\n",
    "\n",
    "# under sampling 한 데이터들을 파일로 저장."
   ]
  },
  {
   "cell_type": "code",
   "execution_count": null,
   "metadata": {
    "id": "txk0ZtPtu2FT"
   },
   "outputs": [],
   "source": [
    "\n"
   ]
  },
  {
   "cell_type": "code",
   "execution_count": null,
   "metadata": {},
   "outputs": [],
   "source": [
    "from sklearn.linear_model import LogisticRegression\n",
    "from sklearn.metrics import precision_score, recall_score, f1_score,confusion_matrix, classification_report,roc_auc_score\n",
    "\n",
    "model = LogisticRegression()\n",
    "model.fit(X_train_under, y_train_under)\n",
    "y_pred = model.predict(X_test)\n",
    "\n",
    "print(confusion_matrix(y_pred,y_test))\n",
    "print(f1_score(y_pred,y_test))\n",
    "print(roc_auc_score(y_pred,y_test))"
   ]
  },
  {
   "cell_type": "code",
   "execution_count": null,
   "metadata": {},
   "outputs": [],
   "source": [
    "from xgboost import XGBClassifier, plot_importance\n",
    "\n",
    "model = XGBClassifier(n_estimators = 400, learning_rate = 0.1, max_depth = 3)\n",
    "xgb_model = model.fit(X_train_smote, y_train_smote)\n",
    "\n",
    "y_pred = xgb_model.predict(X_test)\n",
    "y_pred_probs = xgb_model.predict_proba(X_test)[:,1]\n",
    "\n",
    "print(confusion_matrix(y_pred,y_test))\n",
    "print(f1_score(y_pred,y_test))\n",
    "print(roc_auc_score(y_pred,y_test))"
   ]
  },
  {
   "cell_type": "code",
   "execution_count": null,
   "metadata": {},
   "outputs": [],
   "source": []
  },
  {
   "cell_type": "code",
   "execution_count": null,
   "metadata": {},
   "outputs": [],
   "source": []
  },
  {
   "cell_type": "code",
   "execution_count": null,
   "metadata": {},
   "outputs": [],
   "source": []
  },
  {
   "cell_type": "code",
   "execution_count": null,
   "metadata": {},
   "outputs": [],
   "source": []
  },
  {
   "cell_type": "markdown",
   "metadata": {
    "id": "IvxTZfyBu2IA"
   },
   "source": [
    "##  오버샘플링"
   ]
  },
  {
   "cell_type": "markdown",
   "metadata": {},
   "source": [
    "### SMOTE 오버샘플링"
   ]
  },
  {
   "cell_type": "code",
   "execution_count": 9,
   "metadata": {
    "executionInfo": {
     "elapsed": 28117,
     "status": "ok",
     "timestamp": 1669094309478,
     "user": {
      "displayName": "김지훈",
      "userId": "04907131410261793708"
     },
     "user_tz": -540
    },
    "id": "bjahdm_CldY2"
   },
   "outputs": [],
   "source": [
    "from imblearn.over_sampling import SMOTE\n",
    "sm = SMOTE(random_state=0)\n",
    "X_train_smote, y_train_smote = sm.fit_resample(X_train, y_train)\n"
   ]
  },
  {
   "cell_type": "code",
   "execution_count": 10,
   "metadata": {
    "colab": {
     "base_uri": "https://localhost:8080/"
    },
    "executionInfo": {
     "elapsed": 598,
     "status": "ok",
     "timestamp": 1669094310073,
     "user": {
      "displayName": "김지훈",
      "userId": "04907131410261793708"
     },
     "user_tz": -540
    },
    "id": "9UnfRecPmESG",
    "outputId": "edb27a99-6ec2-4f93-cd0a-1c08e43f18ff"
   },
   "outputs": [
    {
     "name": "stdout",
     "output_type": "stream",
     "text": [
      "smote 적용 전 학습용 피처/레이블 데이터 세트:  (6010633, 7) (6010633,)\n",
      "smote 적용 후 학습용 피처/레이블 데이터 세트:  (11371446, 7) (11371446,)\n",
      "\n",
      " smote 적용 전 레이블 값 분포: \n",
      " 0.0    5685723\n",
      "1.0     324910\n",
      "Name: is_applied, dtype: int64\n",
      "\n",
      " smote 적용 후 레이블 값 분포: \n",
      " 0.0    5685723\n",
      "1.0    5685723\n",
      "Name: is_applied, dtype: int64\n"
     ]
    }
   ],
   "source": [
    "print('smote 적용 전 학습용 피처/레이블 데이터 세트: ', X_train.shape, y_train.shape)\n",
    "print('smote 적용 후 학습용 피처/레이블 데이터 세트: ', X_train_smote.shape, y_train_smote.shape)\n",
    "\n",
    "\n",
    "print('\\n smote 적용 전 레이블 값 분포: \\n', pd.Series(y_train).value_counts())\n",
    "print('\\n smote 적용 후 레이블 값 분포: \\n', pd.Series(y_train_smote).value_counts())"
   ]
  },
  {
   "cell_type": "code",
   "execution_count": 11,
   "metadata": {
    "executionInfo": {
     "elapsed": 128880,
     "status": "ok",
     "timestamp": 1669094438952,
     "user": {
      "displayName": "김지훈",
      "userId": "04907131410261793708"
     },
     "user_tz": -540
    },
    "id": "g_EUUh2x9P2S"
   },
   "outputs": [],
   "source": [
    "X_train_smote.to_csv(\"X_train_smote.csv\",index=False)\n",
    "y_train_smote.to_csv(\"y_train_smote.csv\",index=False)"
   ]
  },
  {
   "cell_type": "markdown",
   "metadata": {
    "id": "87CCGCS2cvFz"
   },
   "source": [
    "### BorderlineSMOTE 오버샘플링"
   ]
  },
  {
   "cell_type": "code",
   "execution_count": 12,
   "metadata": {
    "executionInfo": {
     "elapsed": 112036,
     "status": "ok",
     "timestamp": 1669094550984,
     "user": {
      "displayName": "김지훈",
      "userId": "04907131410261793708"
     },
     "user_tz": -540
    },
    "id": "8hHjMh1ucvI2"
   },
   "outputs": [],
   "source": [
    "from imblearn.over_sampling import BorderlineSMOTE\n",
    "bsmote = BorderlineSMOTE(random_state = 101, kind = 'borderline-1')\n",
    "X_train_border, y_train_border = bsmote.fit_resample(X_train, y_train)"
   ]
  },
  {
   "cell_type": "code",
   "execution_count": 13,
   "metadata": {
    "colab": {
     "base_uri": "https://localhost:8080/"
    },
    "executionInfo": {
     "elapsed": 7,
     "status": "ok",
     "timestamp": 1669094550984,
     "user": {
      "displayName": "김지훈",
      "userId": "04907131410261793708"
     },
     "user_tz": -540
    },
    "id": "UcwqpZkMcvL-",
    "outputId": "2d3600da-eb72-4b66-c22e-1e483d5e9e9b"
   },
   "outputs": [
    {
     "name": "stdout",
     "output_type": "stream",
     "text": [
      "borderline smote 적용 전 학습용 피처/레이블 데이터 세트:  (6010633, 7) (6010633,)\n",
      "borderline smote 적용 후 학습용 피처/레이블 데이터 세트:  (11371446, 7) (11371446,)\n",
      "\n",
      " borderline smote 적용 전 레이블 값 분포: \n",
      " 0.0    5685723\n",
      "1.0     324910\n",
      "Name: is_applied, dtype: int64\n",
      "\n",
      " borderline smote 적용 후 레이블 값 분포: \n",
      " 0.0    5685723\n",
      "1.0    5685723\n",
      "Name: is_applied, dtype: int64\n"
     ]
    }
   ],
   "source": [
    "print('borderline smote 적용 전 학습용 피처/레이블 데이터 세트: ', X_train.shape, y_train.shape)\n",
    "print('borderline smote 적용 후 학습용 피처/레이블 데이터 세트: ', X_train_border.shape, y_train_border.shape)\n",
    "\n",
    "\n",
    "print('\\n borderline smote 적용 전 레이블 값 분포: \\n', pd.Series(y_train).value_counts())\n",
    "print('\\n borderline smote 적용 후 레이블 값 분포: \\n', pd.Series(y_train_border).value_counts())"
   ]
  },
  {
   "cell_type": "code",
   "execution_count": 14,
   "metadata": {
    "executionInfo": {
     "elapsed": 131728,
     "status": "ok",
     "timestamp": 1669094682708,
     "user": {
      "displayName": "김지훈",
      "userId": "04907131410261793708"
     },
     "user_tz": -540
    },
    "id": "aEObQoFScvOp"
   },
   "outputs": [],
   "source": [
    "X_train_border.to_csv(\"X_train_border.csv\",index=False)\n",
    "y_train_border.to_csv(\"y_train_border.csv\",index=False)"
   ]
  },
  {
   "cell_type": "markdown",
   "metadata": {
    "id": "-bDidg85dRr5"
   },
   "source": [
    "###  ADASYN 오버샘플링"
   ]
  },
  {
   "cell_type": "code",
   "execution_count": 15,
   "metadata": {
    "executionInfo": {
     "elapsed": 97935,
     "status": "ok",
     "timestamp": 1669094780632,
     "user": {
      "displayName": "김지훈",
      "userId": "04907131410261793708"
     },
     "user_tz": -540
    },
    "id": "5166wzD2kIi_"
   },
   "outputs": [],
   "source": [
    "from imblearn.over_sampling import ADASYN\n",
    "\n",
    "adasyn = ADASYN(random_state=22)\n",
    "X_train_adasyn, y_train_adasyn = adasyn.fit_resample(X_train, y_train)"
   ]
  },
  {
   "cell_type": "code",
   "execution_count": 16,
   "metadata": {
    "colab": {
     "base_uri": "https://localhost:8080/"
    },
    "executionInfo": {
     "elapsed": 15,
     "status": "ok",
     "timestamp": 1669094780633,
     "user": {
      "displayName": "김지훈",
      "userId": "04907131410261793708"
     },
     "user_tz": -540
    },
    "id": "6DxhMDDkdRui",
    "outputId": "6f061f0f-f568-4cfd-e8bc-f0620fa3546f"
   },
   "outputs": [
    {
     "name": "stdout",
     "output_type": "stream",
     "text": [
      "adasyn 적용 전 학습용 피처/레이블 데이터 세트:  (6010633, 7) (6010633,)\n",
      "adasyn 적용 후 학습용 피처/레이블 데이터 세트:  (11431639, 7) (11431639,)\n",
      "\n",
      " adasyn 적용 전 레이블 값 분포: \n",
      " 0.0    5685723\n",
      "1.0     324910\n",
      "Name: is_applied, dtype: int64\n",
      "\n",
      " adasyn 적용 후 레이블 값 분포: \n",
      " 1.0    5745916\n",
      "0.0    5685723\n",
      "Name: is_applied, dtype: int64\n"
     ]
    }
   ],
   "source": [
    "print('adasyn 적용 전 학습용 피처/레이블 데이터 세트: ', X_train.shape, y_train.shape)\n",
    "print('adasyn 적용 후 학습용 피처/레이블 데이터 세트: ', X_train_adasyn.shape, y_train_adasyn.shape)\n",
    "\n",
    "\n",
    "print('\\n adasyn 적용 전 레이블 값 분포: \\n', pd.Series(y_train).value_counts())\n",
    "print('\\n adasyn 적용 후 레이블 값 분포: \\n', pd.Series(y_train_adasyn).value_counts())"
   ]
  },
  {
   "cell_type": "code",
   "execution_count": 17,
   "metadata": {
    "executionInfo": {
     "elapsed": 128471,
     "status": "ok",
     "timestamp": 1669094909091,
     "user": {
      "displayName": "김지훈",
      "userId": "04907131410261793708"
     },
     "user_tz": -540
    },
    "id": "_x0-NsDZknPv"
   },
   "outputs": [],
   "source": [
    "X_train_adasyn.to_csv(\"X_train_adasyn.csv\",index=False)\n",
    "y_train_adasyn.to_csv(\"y_train_adasyn.csv\",index=False)"
   ]
  },
  {
   "cell_type": "markdown",
   "metadata": {
    "id": "Jx9i3NvsZD4d"
   },
   "source": [
    "### SMOTETOMEK 오버샘플링"
   ]
  },
  {
   "cell_type": "code",
   "execution_count": 18,
   "metadata": {
    "executionInfo": {
     "elapsed": 775914,
     "status": "ok",
     "timestamp": 1669095684992,
     "user": {
      "displayName": "김지훈",
      "userId": "04907131410261793708"
     },
     "user_tz": -540
    },
    "id": "UTI7PzmOZD7I"
   },
   "outputs": [],
   "source": [
    "from imblearn.combine import SMOTETomek\n",
    "from imblearn.under_sampling import TomekLinks\n",
    "\n",
    "smoteto = SMOTETomek(tomek=TomekLinks(sampling_strategy='majority'))\n",
    "X_train_smtomek, y_train_smtomek = smoteto.fit_resample(X_train, y_train)"
   ]
  },
  {
   "cell_type": "code",
   "execution_count": 19,
   "metadata": {
    "colab": {
     "base_uri": "https://localhost:8080/"
    },
    "executionInfo": {
     "elapsed": 14,
     "status": "ok",
     "timestamp": 1669095684993,
     "user": {
      "displayName": "김지훈",
      "userId": "04907131410261793708"
     },
     "user_tz": -540
    },
    "id": "bDvD4h03knXu",
    "outputId": "bb8814c4-09b7-4d0a-84bc-f73a42a526ed"
   },
   "outputs": [
    {
     "name": "stdout",
     "output_type": "stream",
     "text": [
      "smotetomek 적용 전 학습용 피처/레이블 데이터 세트:  (6010633, 7) (6010633,)\n",
      "smotetomek 적용 후 학습용 피처/레이블 데이터 세트:  (11345721, 7) (11345721,)\n",
      "\n",
      " smotetomek 적용 전 레이블 값 분포: \n",
      " 0.0    5685723\n",
      "1.0     324910\n",
      "Name: is_applied, dtype: int64\n",
      "\n",
      " smotetomek 적용 후 레이블 값 분포: \n",
      " 1.0    5685723\n",
      "0.0    5659998\n",
      "Name: is_applied, dtype: int64\n"
     ]
    }
   ],
   "source": [
    "print('smotetomek 적용 전 학습용 피처/레이블 데이터 세트: ', X_train.shape, y_train.shape)\n",
    "print('smotetomek 적용 후 학습용 피처/레이블 데이터 세트: ', X_train_smtomek.shape, y_train_smtomek.shape)\n",
    "\n",
    "\n",
    "print('\\n smotetomek 적용 전 레이블 값 분포: \\n', pd.Series(y_train).value_counts())\n",
    "print('\\n smotetomek 적용 후 레이블 값 분포: \\n', pd.Series(y_train_smtomek).value_counts())"
   ]
  },
  {
   "cell_type": "code",
   "execution_count": 20,
   "metadata": {
    "executionInfo": {
     "elapsed": 129486,
     "status": "ok",
     "timestamp": 1669095814467,
     "user": {
      "displayName": "김지훈",
      "userId": "04907131410261793708"
     },
     "user_tz": -540
    },
    "id": "Xzw26NSeZdsF"
   },
   "outputs": [],
   "source": [
    "X_train_smtomek.to_csv(\"X_train_smtomek.csv\",index=False)\n",
    "y_train_smtomek.to_csv(\"y_train_smtomek.csv\",index=False)"
   ]
  },
  {
   "cell_type": "code",
   "execution_count": null,
   "metadata": {
    "id": "cRFB6mzyZmq5"
   },
   "outputs": [],
   "source": []
  },
  {
   "cell_type": "code",
   "execution_count": null,
   "metadata": {},
   "outputs": [],
   "source": []
  },
  {
   "cell_type": "code",
   "execution_count": null,
   "metadata": {},
   "outputs": [],
   "source": []
  },
  {
   "cell_type": "code",
   "execution_count": null,
   "metadata": {},
   "outputs": [],
   "source": []
  },
  {
   "cell_type": "code",
   "execution_count": null,
   "metadata": {},
   "outputs": [],
   "source": []
  },
  {
   "cell_type": "markdown",
   "metadata": {},
   "source": [
    "## 분류모델 (GridSearchCV전, 기본 모델)"
   ]
  },
  {
   "cell_type": "markdown",
   "metadata": {},
   "source": [
    "### 의사결정나무"
   ]
  },
  {
   "cell_type": "code",
   "execution_count": null,
   "metadata": {
    "colab": {
     "base_uri": "https://localhost:8080/"
    },
    "executionInfo": {
     "elapsed": 55909,
     "status": "ok",
     "timestamp": 1668830066192,
     "user": {
      "displayName": "김지훈",
      "userId": "04907131410261793708"
     },
     "user_tz": -540
    },
    "id": "YuD8ZmidYOfp",
    "outputId": "1581f13a-f035-43a4-bb43-acb4fe223940"
   },
   "outputs": [
    {
     "name": "stdout",
     "output_type": "stream",
     "text": [
      "              precision    recall  f1-score   support\n",
      "\n",
      "         0.0       0.96      0.95      0.96   1916789\n",
      "         1.0       0.20      0.21      0.20     99255\n",
      "\n",
      "    accuracy                           0.92   2016044\n",
      "   macro avg       0.58      0.58      0.58   2016044\n",
      "weighted avg       0.92      0.92      0.92   2016044\n",
      "\n"
     ]
    },
    {
     "data": {
      "text/plain": [
       "0.20478340956200972"
      ]
     },
     "execution_count": 10,
     "metadata": {},
     "output_type": "execute_result"
    }
   ],
   "source": [
    "from sklearn.tree import DecisionTreeClassifier\n",
    "\n",
    "dtree = DecisionTreeClassifier()\n",
    "dtree.fit(X_train,y_train)\n",
    "y_pred = dtree.predict(X_test)\n",
    "\n",
    "from sklearn.metrics import confusion_matrix, classification_report, f1_score\n",
    "\n",
    "print(classification_report(y_pred,y_test))\n",
    "f1_score(y_pred,y_test)"
   ]
  },
  {
   "cell_type": "code",
   "execution_count": null,
   "metadata": {
    "colab": {
     "base_uri": "https://localhost:8080/"
    },
    "executionInfo": {
     "elapsed": 13106,
     "status": "ok",
     "timestamp": 1668830079286,
     "user": {
      "displayName": "김지훈",
      "userId": "04907131410261793708"
     },
     "user_tz": -540
    },
    "id": "yfIuA1pSp93U",
    "outputId": "0235cbbd-e474-4cb4-f7e4-8b7d8d8be629"
   },
   "outputs": [
    {
     "name": "stdout",
     "output_type": "stream",
     "text": [
      "              precision    recall  f1-score   support\n",
      "\n",
      "         0.0       0.14      0.92      0.24    293780\n",
      "         1.0       0.77      0.05      0.09   1722264\n",
      "\n",
      "    accuracy                           0.17   2016044\n",
      "   macro avg       0.46      0.48      0.17   2016044\n",
      "weighted avg       0.68      0.17      0.11   2016044\n",
      "\n"
     ]
    },
    {
     "data": {
      "text/plain": [
       "0.09147998619285436"
      ]
     },
     "execution_count": 11,
     "metadata": {},
     "output_type": "execute_result"
    }
   ],
   "source": [
    "from sklearn.tree import DecisionTreeClassifier\n",
    "\n",
    "dtree = DecisionTreeClassifier()\n",
    "dtree.fit(X_train_under,y_train_under)\n",
    "y_pred = dtree.predict(X_test)\n",
    "\n",
    "from sklearn.metrics import confusion_matrix, classification_report, f1_score\n",
    "\n",
    "print(classification_report(y_pred,y_test))\n",
    "f1_score(y_pred,y_test)"
   ]
  },
  {
   "cell_type": "code",
   "execution_count": null,
   "metadata": {
    "colab": {
     "base_uri": "https://localhost:8080/"
    },
    "executionInfo": {
     "elapsed": 321091,
     "status": "ok",
     "timestamp": 1668872248397,
     "user": {
      "displayName": "김지훈",
      "userId": "04907131410261793708"
     },
     "user_tz": -540
    },
    "id": "BsUIHlEAp97o",
    "outputId": "0983e2d1-f6a5-4b94-9ff8-de44f83ea782",
    "scrolled": true
   },
   "outputs": [
    {
     "name": "stdout",
     "output_type": "stream",
     "text": [
      "              precision    recall  f1-score   support\n",
      "\n",
      "         0.0       0.95      0.96      0.96   1898392\n",
      "         1.0       0.26      0.24      0.25    117652\n",
      "\n",
      "    accuracy                           0.92   2016044\n",
      "   macro avg       0.61      0.60      0.60   2016044\n",
      "weighted avg       0.91      0.92      0.91   2016044\n",
      "\n"
     ]
    },
    {
     "data": {
      "text/plain": [
       "0.2537424223679327"
      ]
     },
     "execution_count": 57,
     "metadata": {},
     "output_type": "execute_result"
    }
   ],
   "source": [
    "from sklearn.tree import DecisionTreeClassifier\n",
    "\n",
    "dtree = DecisionTreeClassifier()\n",
    "dtree.fit(X_train_smote,y_train_smote)\n",
    "y_pred = dtree.predict(X_test)\n",
    "\n",
    "from sklearn.metrics import confusion_matrix, classification_report, f1_score\n",
    "\n",
    "print(classification_report(y_pred,y_test))\n",
    "f1_score(y_pred,y_test)\n"
   ]
  },
  {
   "cell_type": "code",
   "execution_count": null,
   "metadata": {
    "colab": {
     "base_uri": "https://localhost:8080/"
    },
    "executionInfo": {
     "elapsed": 301973,
     "status": "ok",
     "timestamp": 1668872550359,
     "user": {
      "displayName": "김지훈",
      "userId": "04907131410261793708"
     },
     "user_tz": -540
    },
    "id": "lj86ouROZujj",
    "outputId": "6da840fc-81d2-41a8-c681-abf6927ac7c0"
   },
   "outputs": [
    {
     "name": "stdout",
     "output_type": "stream",
     "text": [
      "              precision    recall  f1-score   support\n",
      "\n",
      "         0.0       0.95      0.96      0.96   1898292\n",
      "         1.0       0.27      0.25      0.26    117752\n",
      "\n",
      "    accuracy                           0.92   2016044\n",
      "   macro avg       0.61      0.60      0.61   2016044\n",
      "weighted avg       0.91      0.92      0.91   2016044\n",
      "\n"
     ]
    },
    {
     "data": {
      "text/plain": [
       "0.25548528424548633"
      ]
     },
     "execution_count": 58,
     "metadata": {},
     "output_type": "execute_result"
    }
   ],
   "source": [
    "from sklearn.tree import DecisionTreeClassifier\n",
    "\n",
    "dtree = DecisionTreeClassifier()\n",
    "dtree.fit(X_train_border,y_train_border)\n",
    "y_pred = dtree.predict(X_test)\n",
    "\n",
    "from sklearn.metrics import confusion_matrix, classification_report, f1_score\n",
    "\n",
    "print(classification_report(y_pred,y_test))\n",
    "f1_score(y_pred,y_test)"
   ]
  },
  {
   "cell_type": "code",
   "execution_count": null,
   "metadata": {
    "colab": {
     "base_uri": "https://localhost:8080/"
    },
    "executionInfo": {
     "elapsed": 282181,
     "status": "ok",
     "timestamp": 1668872832524,
     "user": {
      "displayName": "김지훈",
      "userId": "04907131410261793708"
     },
     "user_tz": -540
    },
    "id": "--uyAGdDZumq",
    "outputId": "d6a55a2b-afc2-4941-b1a1-88671c608a93"
   },
   "outputs": [
    {
     "name": "stdout",
     "output_type": "stream",
     "text": [
      "              precision    recall  f1-score   support\n",
      "\n",
      "         0.0       0.95      0.96      0.96   1898429\n",
      "         1.0       0.27      0.25      0.25    117615\n",
      "\n",
      "    accuracy                           0.92   2016044\n",
      "   macro avg       0.61      0.60      0.61   2016044\n",
      "weighted avg       0.91      0.92      0.91   2016044\n",
      "\n"
     ]
    },
    {
     "data": {
      "text/plain": [
       "0.2547030982778507"
      ]
     },
     "execution_count": 59,
     "metadata": {},
     "output_type": "execute_result"
    }
   ],
   "source": [
    "from sklearn.tree import DecisionTreeClassifier\n",
    "\n",
    "dtree = DecisionTreeClassifier()\n",
    "dtree.fit(X_train_adasyn,y_train_adasyn)\n",
    "y_pred = dtree.predict(X_test)\n",
    "\n",
    "from sklearn.metrics import confusion_matrix, classification_report, f1_score\n",
    "\n",
    "print(classification_report(y_pred,y_test))\n",
    "f1_score(y_pred,y_test)"
   ]
  },
  {
   "cell_type": "code",
   "execution_count": null,
   "metadata": {
    "colab": {
     "base_uri": "https://localhost:8080/"
    },
    "executionInfo": {
     "elapsed": 331819,
     "status": "ok",
     "timestamp": 1668873164340,
     "user": {
      "displayName": "김지훈",
      "userId": "04907131410261793708"
     },
     "user_tz": -540
    },
    "id": "DwyCZ3w0Z3LI",
    "outputId": "1ee14b6b-b3a1-4dcf-ba0c-220cb8cf6a65"
   },
   "outputs": [
    {
     "name": "stdout",
     "output_type": "stream",
     "text": [
      "              precision    recall  f1-score   support\n",
      "\n",
      "         0.0       0.95      0.96      0.95   1893909\n",
      "         1.0       0.27      0.24      0.26    122135\n",
      "\n",
      "    accuracy                           0.91   2016044\n",
      "   macro avg       0.61      0.60      0.60   2016044\n",
      "weighted avg       0.91      0.91      0.91   2016044\n",
      "\n"
     ]
    },
    {
     "data": {
      "text/plain": [
       "0.25516557123484124"
      ]
     },
     "execution_count": 60,
     "metadata": {},
     "output_type": "execute_result"
    }
   ],
   "source": [
    "from sklearn.tree import DecisionTreeClassifier\n",
    "\n",
    "dtree = DecisionTreeClassifier()\n",
    "dtree.fit(X_train_smtomek,y_train_smtomek)\n",
    "y_pred = dtree.predict(X_test)\n",
    "\n",
    "from sklearn.metrics import confusion_matrix, classification_report, f1_score\n",
    "\n",
    "print(classification_report(y_pred,y_test))\n",
    "f1_score(y_pred,y_test)"
   ]
  },
  {
   "cell_type": "code",
   "execution_count": null,
   "metadata": {
    "id": "LmX6-5QJZ3N3"
   },
   "outputs": [],
   "source": []
  },
  {
   "cell_type": "markdown",
   "metadata": {
    "id": "olkzgFeIaINf"
   },
   "source": [
    "### KNN "
   ]
  },
  {
   "cell_type": "code",
   "execution_count": null,
   "metadata": {
    "colab": {
     "base_uri": "https://localhost:8080/"
    },
    "executionInfo": {
     "elapsed": 451051,
     "status": "ok",
     "timestamp": 1668873615380,
     "user": {
      "displayName": "김지훈",
      "userId": "04907131410261793708"
     },
     "user_tz": -540
    },
    "id": "QVFOJFOyC_te",
    "outputId": "74f80096-82ee-4edd-f3a7-dd51c6078e8e"
   },
   "outputs": [
    {
     "name": "stdout",
     "output_type": "stream",
     "text": [
      "              precision    recall  f1-score   support\n",
      "\n",
      "         0.0       0.99      0.95      0.97   1986352\n",
      "         1.0       0.09      0.33      0.14     29692\n",
      "\n",
      "    accuracy                           0.94   2016044\n",
      "   macro avg       0.54      0.64      0.56   2016044\n",
      "weighted avg       0.98      0.94      0.96   2016044\n",
      "\n"
     ]
    },
    {
     "data": {
      "text/plain": [
       "0.14214680119106127"
      ]
     },
     "execution_count": 61,
     "metadata": {},
     "output_type": "execute_result"
    }
   ],
   "source": [
    "from sklearn.neighbors import KNeighborsClassifier\n",
    "\n",
    "knn = KNeighborsClassifier()\n",
    "knn.fit(X_train,y_train)\n",
    "y_pred = knn.predict(X_test)\n",
    "\n",
    "from sklearn.metrics import confusion_matrix, classification_report, f1_score\n",
    "\n",
    "print(classification_report(y_pred,y_test))\n",
    "f1_score(y_pred,y_test)"
   ]
  },
  {
   "cell_type": "code",
   "execution_count": null,
   "metadata": {
    "colab": {
     "base_uri": "https://localhost:8080/"
    },
    "executionInfo": {
     "elapsed": 823463,
     "status": "ok",
     "timestamp": 1668874438832,
     "user": {
      "displayName": "김지훈",
      "userId": "04907131410261793708"
     },
     "user_tz": -540
    },
    "id": "pgyW_gvxtTTP",
    "outputId": "dde4da54-be62-46db-fdef-07add7c854d8"
   },
   "outputs": [
    {
     "name": "stdout",
     "output_type": "stream",
     "text": [
      "              precision    recall  f1-score   support\n",
      "\n",
      "         0.0       0.87      0.97      0.91   1709118\n",
      "         1.0       0.49      0.18      0.26    306926\n",
      "\n",
      "    accuracy                           0.85   2016044\n",
      "   macro avg       0.68      0.57      0.59   2016044\n",
      "weighted avg       0.81      0.85      0.81   2016044\n",
      "\n"
     ]
    },
    {
     "data": {
      "text/plain": [
       "0.25862973354058494"
      ]
     },
     "execution_count": 62,
     "metadata": {},
     "output_type": "execute_result"
    }
   ],
   "source": [
    "from sklearn.neighbors import KNeighborsClassifier\n",
    "\n",
    "knn = KNeighborsClassifier()\n",
    "knn.fit(X_train_over,y_train_over)\n",
    "y_pred = knn.predict(X_test)\n",
    "\n",
    "from sklearn.metrics import confusion_matrix, classification_report, f1_score\n",
    "\n",
    "print(classification_report(y_pred,y_test))\n",
    "f1_score(y_pred,y_test)"
   ]
  },
  {
   "cell_type": "code",
   "execution_count": null,
   "metadata": {
    "colab": {
     "base_uri": "https://localhost:8080/"
    },
    "executionInfo": {
     "elapsed": 867924,
     "status": "ok",
     "timestamp": 1668875306751,
     "user": {
      "displayName": "김지훈",
      "userId": "04907131410261793708"
     },
     "user_tz": -540
    },
    "id": "xWwKFoGSaJZY",
    "outputId": "6df3a485-a456-4f5a-cc13-1a6508bb3e33"
   },
   "outputs": [
    {
     "name": "stdout",
     "output_type": "stream",
     "text": [
      "              precision    recall  f1-score   support\n",
      "\n",
      "         0.0       0.89      0.97      0.93   1756381\n",
      "         1.0       0.45      0.19      0.27    259663\n",
      "\n",
      "    accuracy                           0.87   2016044\n",
      "   macro avg       0.67      0.58      0.60   2016044\n",
      "weighted avg       0.83      0.87      0.84   2016044\n",
      "\n"
     ]
    },
    {
     "data": {
      "text/plain": [
       "0.2675173415504908"
      ]
     },
     "execution_count": 63,
     "metadata": {},
     "output_type": "execute_result"
    }
   ],
   "source": [
    "from sklearn.neighbors import KNeighborsClassifier\n",
    "\n",
    "knn = KNeighborsClassifier()\n",
    "knn.fit(X_train_border,y_train_border)\n",
    "y_pred = knn.predict(X_test)\n",
    "\n",
    "from sklearn.metrics import confusion_matrix, classification_report, f1_score\n",
    "\n",
    "print(classification_report(y_pred,y_test))\n",
    "f1_score(y_pred,y_test)"
   ]
  },
  {
   "cell_type": "code",
   "execution_count": null,
   "metadata": {
    "colab": {
     "base_uri": "https://localhost:8080/"
    },
    "executionInfo": {
     "elapsed": 722630,
     "status": "ok",
     "timestamp": 1668876029370,
     "user": {
      "displayName": "김지훈",
      "userId": "04907131410261793708"
     },
     "user_tz": -540
    },
    "id": "mBzKa926aJcO",
    "outputId": "c0553bf6-ddc0-437f-a00c-08eb2f6e3fbe"
   },
   "outputs": [
    {
     "name": "stdout",
     "output_type": "stream",
     "text": [
      "              precision    recall  f1-score   support\n",
      "\n",
      "         0.0       0.86      0.97      0.91   1699068\n",
      "         1.0       0.50      0.17      0.26    316976\n",
      "\n",
      "    accuracy                           0.84   2016044\n",
      "   macro avg       0.68      0.57      0.58   2016044\n",
      "weighted avg       0.81      0.84      0.81   2016044\n",
      "\n"
     ]
    },
    {
     "data": {
      "text/plain": [
       "0.25634326955606507"
      ]
     },
     "execution_count": 64,
     "metadata": {},
     "output_type": "execute_result"
    }
   ],
   "source": [
    "from sklearn.neighbors import KNeighborsClassifier\n",
    "\n",
    "knn = KNeighborsClassifier()\n",
    "knn.fit(X_train_adasyn,y_train_adasyn)\n",
    "y_pred = knn.predict(X_test)\n",
    "\n",
    "from sklearn.metrics import confusion_matrix, classification_report, f1_score\n",
    "\n",
    "print(classification_report(y_pred,y_test))\n",
    "f1_score(y_pred,y_test)"
   ]
  },
  {
   "cell_type": "code",
   "execution_count": null,
   "metadata": {
    "colab": {
     "base_uri": "https://localhost:8080/"
    },
    "executionInfo": {
     "elapsed": 845396,
     "status": "ok",
     "timestamp": 1668876874748,
     "user": {
      "displayName": "김지훈",
      "userId": "04907131410261793708"
     },
     "user_tz": -540
    },
    "id": "AzQfyvJnaMm6",
    "outputId": "bb3ea19d-2cb6-47ae-c154-7c8205377021"
   },
   "outputs": [
    {
     "name": "stdout",
     "output_type": "stream",
     "text": [
      "              precision    recall  f1-score   support\n",
      "\n",
      "         0.0       0.86      0.97      0.91   1703798\n",
      "         1.0       0.50      0.17      0.26    312246\n",
      "\n",
      "    accuracy                           0.85   2016044\n",
      "   macro avg       0.68      0.57      0.59   2016044\n",
      "weighted avg       0.81      0.85      0.81   2016044\n",
      "\n"
     ]
    },
    {
     "data": {
      "text/plain": [
       "0.25764163091148395"
      ]
     },
     "execution_count": 65,
     "metadata": {},
     "output_type": "execute_result"
    }
   ],
   "source": [
    "from sklearn.neighbors import KNeighborsClassifier\n",
    "\n",
    "knn = KNeighborsClassifier()\n",
    "knn.fit(X_train_smtomek,y_train_smtomek)\n",
    "y_pred = knn.predict(X_test)\n",
    "\n",
    "from sklearn.metrics import confusion_matrix, classification_report, f1_score\n",
    "\n",
    "print(classification_report(y_pred,y_test))\n",
    "f1_score(y_pred,y_test)"
   ]
  },
  {
   "cell_type": "code",
   "execution_count": null,
   "metadata": {
    "id": "yeSbCx-Y2C18"
   },
   "outputs": [],
   "source": []
  },
  {
   "cell_type": "code",
   "execution_count": null,
   "metadata": {
    "id": "yYRW7HtAC_xn"
   },
   "outputs": [],
   "source": [
    "from xgboost import XGBClassifier\n",
    "xgb = XGBClassifier()\n",
    "xgb.fit(X_train,y_train)\n",
    "y_pred = xgb.predict(X_test)\n",
    "\n",
    "from sklearn.metrics import confusion_matrix, classification_report, f1_score\n",
    "\n",
    "print(classification_report(y_pred,y_test))\n",
    "f1_score(y_pred,y_test)"
   ]
  },
  {
   "cell_type": "code",
   "execution_count": null,
   "metadata": {
    "id": "p06WltHzGjdU"
   },
   "outputs": [],
   "source": []
  },
  {
   "cell_type": "code",
   "execution_count": null,
   "metadata": {
    "id": "nFBAU41RGjeg"
   },
   "outputs": [],
   "source": []
  },
  {
   "cell_type": "markdown",
   "metadata": {
    "id": "I2KJtsFTGjnO"
   },
   "source": [
    "### 랜덤포레스트"
   ]
  },
  {
   "cell_type": "code",
   "execution_count": 21,
   "metadata": {
    "colab": {
     "base_uri": "https://localhost:8080/"
    },
    "executionInfo": {
     "elapsed": 1504901,
     "status": "ok",
     "timestamp": 1669097320873,
     "user": {
      "displayName": "김지훈",
      "userId": "04907131410261793708"
     },
     "user_tz": -540
    },
    "id": "uSUIehXNZKh8",
    "outputId": "047769ce-78ed-420a-b829-89dae970fc85",
    "scrolled": true
   },
   "outputs": [
    {
     "name": "stdout",
     "output_type": "stream",
     "text": [
      "              precision    recall  f1-score   support\n",
      "\n",
      "         0.0       0.99      0.95      0.97   1963075\n",
      "         1.0       0.16      0.42      0.23     40470\n",
      "\n",
      "    accuracy                           0.94   2003545\n",
      "   macro avg       0.57      0.69      0.60   2003545\n",
      "weighted avg       0.97      0.94      0.96   2003545\n",
      "\n",
      "[[1871760   91315]\n",
      " [  23481   16989]]\n",
      "0.2283866804683614\n"
     ]
    }
   ],
   "source": [
    "from sklearn.ensemble import RandomForestClassifier\n",
    "\n",
    "rforest = RandomForestClassifier()\n",
    "rforest.fit(X_train,y_train)\n",
    "y_pred = rforest.predict(X_test)\n",
    "\n",
    "from sklearn.metrics import confusion_matrix, classification_report, f1_score\n",
    "\n",
    "rf_report = classification_report(y_pred,y_test)\n",
    "rf_cf = confusion_matrix(y_pred,y_test)\n",
    "rf_f1 = f1_score(y_pred,y_test)\n",
    "print(rf_report)\n",
    "print(rf_cf)\n",
    "print(rf_f1)"
   ]
  },
  {
   "cell_type": "code",
   "execution_count": 22,
   "metadata": {
    "colab": {
     "base_uri": "https://localhost:8080/"
    },
    "executionInfo": {
     "elapsed": 269213,
     "status": "ok",
     "timestamp": 1669097590074,
     "user": {
      "displayName": "김지훈",
      "userId": "04907131410261793708"
     },
     "user_tz": -540
    },
    "id": "Nu7_owD6vlOF",
    "outputId": "30cdbe88-e40e-4a66-f9d4-d9649aeb1b7e"
   },
   "outputs": [
    {
     "name": "stdout",
     "output_type": "stream",
     "text": [
      "              precision    recall  f1-score   support\n",
      "\n",
      "         0.0       0.18      0.93      0.30    357340\n",
      "         1.0       0.78      0.05      0.10   1646205\n",
      "\n",
      "    accuracy                           0.21   2003545\n",
      "   macro avg       0.48      0.49      0.20   2003545\n",
      "weighted avg       0.67      0.21      0.13   2003545\n",
      "\n",
      "[[ 333308   24032]\n",
      " [1561933   84272]]\n",
      "0.09606334307774995\n"
     ]
    }
   ],
   "source": [
    "from sklearn.ensemble import RandomForestClassifier\n",
    "\n",
    "rforest = RandomForestClassifier()\n",
    "rforest.fit(X_train_under,y_train_under)\n",
    "y_pred = rforest.predict(X_test)\n",
    "\n",
    "from sklearn.metrics import confusion_matrix, classification_report, f1_score\n",
    "\n",
    "rf_under_report = classification_report(y_pred,y_test)\n",
    "rf_under_cf = confusion_matrix(y_pred,y_test)\n",
    "rf_under_f1 = f1_score(y_pred,y_test)\n",
    "print(rf_under_report)\n",
    "print(rf_under_cf)\n",
    "print(rf_under_f1)"
   ]
  },
  {
   "cell_type": "code",
   "execution_count": null,
   "metadata": {
    "id": "ttBpHDtoZNw8"
   },
   "outputs": [],
   "source": [
    "from sklearn.ensemble import RandomForestClassifier\n",
    "\n",
    "rforest = RandomForestClassifier()\n",
    "rforest.fit(X_train_smote,y_train_smote)\n",
    "y_pred = rforest.predict(X_test)\n",
    "\n",
    "from sklearn.metrics import confusion_matrix, classification_report, f1_score\n",
    "\n",
    "rf_smote_report = classification_report(y_pred,y_test)\n",
    "rf_smote_cf = confusion_matrix(y_pred,y_test)\n",
    "rf_smote_f1 = f1_score(y_pred,y_test)\n",
    "print(rf_smote_report)\n",
    "print(rf_smote_cf)\n",
    "print(rf_smote_f1)"
   ]
  },
  {
   "cell_type": "code",
   "execution_count": null,
   "metadata": {
    "id": "NQeAljbQC_3n"
   },
   "outputs": [],
   "source": [
    "from sklearn.ensemble import RandomForestClassifier\n",
    "\n",
    "rforest = RandomForestClassifier()\n",
    "rforest.fit(X_train_border,y_train_border)\n",
    "y_pred = rforest.predict(X_test)\n",
    "\n",
    "from sklearn.metrics import confusion_matrix, classification_report, f1_score\n",
    "\n",
    "rf_border_report = classification_report(y_pred,y_test)\n",
    "rf_border_cf = confusion_matrix(y_pred,y_test)\n",
    "rf_border_f1 = f1_score(y_pred,y_test)\n",
    "print(rf_border_report)\n",
    "print(rf_border_cf)\n",
    "print(rf_border_f1)"
   ]
  },
  {
   "cell_type": "code",
   "execution_count": null,
   "metadata": {
    "id": "TDvOScmjuwyk"
   },
   "outputs": [],
   "source": [
    "from sklearn.ensemble import RandomForestClassifier\n",
    "\n",
    "rforest = RandomForestClassifier()\n",
    "rforest.fit(X_train_adasyn,y_train_adasyn)\n",
    "y_pred = rforest.predict(X_test)\n",
    "\n",
    "from sklearn.metrics import confusion_matrix, classification_report, f1_score\n",
    "\n",
    "rf_adasyn_report = classification_report(y_pred,y_test)\n",
    "rf_adasyn_cf = confusion_matrix(y_pred,y_test)\n",
    "rf_adasyn_f1 = f1_score(y_pred,y_test)\n",
    "print(rf_adasyn_report)\n",
    "print(rf_adasyn_cf)\n",
    "print(rf_adasyn_f1)"
   ]
  },
  {
   "cell_type": "code",
   "execution_count": null,
   "metadata": {
    "id": "uVdvsdJ2uw1c"
   },
   "outputs": [],
   "source": [
    "from sklearn.ensemble import RandomForestClassifier\n",
    "\n",
    "rforest = RandomForestClassifier()\n",
    "rforest.fit(X_train_smtomek,y_train_smtomek)\n",
    "y_pred = rforest.predict(X_test)\n",
    "\n",
    "from sklearn.metrics import confusion_matrix, classification_report, f1_score\n",
    "\n",
    "rf_smtomek_report = classification_report(y_pred,y_test)\n",
    "rf_smtomek_cf = confusion_matrix(y_pred,y_test)\n",
    "rf_smtomek_f1 = f1_score(y_pred,y_test)\n",
    "print(rf_smtomek_report)\n",
    "print(rf_smtomek_cf)\n",
    "print(rf_smtomek_f1)"
   ]
  },
  {
   "cell_type": "code",
   "execution_count": null,
   "metadata": {
    "id": "nGUotdgXac_Y"
   },
   "outputs": [],
   "source": []
  },
  {
   "cell_type": "markdown",
   "metadata": {
    "id": "Y6W0v66gkZdI"
   },
   "source": [
    "### 로지스틱 회귀, XGBoost, Adaboost"
   ]
  },
  {
   "cell_type": "code",
   "execution_count": null,
   "metadata": {},
   "outputs": [],
   "source": []
  },
  {
   "cell_type": "code",
   "execution_count": null,
   "metadata": {},
   "outputs": [],
   "source": []
  },
  {
   "cell_type": "code",
   "execution_count": null,
   "metadata": {},
   "outputs": [],
   "source": []
  },
  {
   "cell_type": "code",
   "execution_count": null,
   "metadata": {},
   "outputs": [],
   "source": []
  },
  {
   "cell_type": "markdown",
   "metadata": {},
   "source": [
    "## GridSearchCV"
   ]
  },
  {
   "cell_type": "code",
   "execution_count": null,
   "metadata": {
    "id": "6qVwAhTskZjh"
   },
   "outputs": [],
   "source": [
    "from sklearn.neighbors import KNeighborsClassifier\n",
    "params = {\n",
    "    'n_neighbors' : list(range(1,20)),\n",
    "    'weights' : [\"uniform\", \"distance\"],\n",
    "    'metric' : ['euclidean', 'manhattan', 'minkowski']\n",
    "}\n",
    "\n",
    "from sklearn.model_selection import GridSearchCV\n",
    "\n",
    "grid_search = GridSearchCV(KNeighborsClassifier(),params,scoring='f1')\n",
    "grid_search.fit(X_train,y_train)\n",
    "print('그리드 서치 결과 가장 높은 f1 score : {}'.format(grid_search.best_score_))\n",
    "print('그리드 서치 결과 가장 좋은 초매개변수 : {}'.format(grid_search.best_params_))\n",
    "knn_grid_score = grid_search.score(X_test,y_test)\n",
    "print('테스트 데이터 f1 score : {}'.format(grid_search.score(X_test,y_test)))"
   ]
  },
  {
   "cell_type": "code",
   "execution_count": null,
   "metadata": {
    "id": "h_e7NIzskZrn"
   },
   "outputs": [],
   "source": [
    "from sklearn.neighbors import KNeighborsClassifier\n",
    "params = {\n",
    "    'n_neighbors' : list(range(1,11)),\n",
    "    'weights' : [\"uniform\", \"distance\"]\n",
    "}\n",
    "\n",
    "from sklearn.model_selection import GridSearchCV\n",
    "\n",
    "grid_search = GridSearchCV(KNeighborsClassifier(),params,scoring='f1')\n",
    "grid_search.fit(X_train_border,y_train_border)\n",
    "print('그리드 서치 결과 가장 높은 f1 score : {}'.format(grid_search.best_score_))\n",
    "print('그리드 서치 결과 가장 좋은 초매개변수 : {}'.format(grid_search.best_params_))\n",
    "knn_grid_score = grid_search.score(X_test,y_test)\n",
    "print('테스트 데이터 f1 score : {}'.format(grid_search.score(X_test,y_test)))"
   ]
  },
  {
   "cell_type": "code",
   "execution_count": null,
   "metadata": {
    "id": "rWnot_9pkZuX"
   },
   "outputs": [],
   "source": []
  },
  {
   "cell_type": "code",
   "execution_count": null,
   "metadata": {
    "id": "_pGQxo2JkZxp"
   },
   "outputs": [],
   "source": []
  },
  {
   "cell_type": "code",
   "execution_count": null,
   "metadata": {
    "id": "1OU_QLmLkZzr"
   },
   "outputs": [],
   "source": []
  },
  {
   "cell_type": "code",
   "execution_count": null,
   "metadata": {
    "id": "IgcaXEutsy7A"
   },
   "outputs": [],
   "source": [
    "from sklearn.ensemble import RandomForestClassifier\n",
    "\n",
    "feature = dat.drop(columns='is_applied')\n",
    "target = dat['is_applied']\n",
    "X_train,X_test,y_train,y_test = train_test_split(feature,target,shuffle=True,random_state=2,stratify=target)\n",
    "\n",
    "\n",
    "from sklearn.model_selection import StratifiedKFold\n",
    "skf = StratifiedKFold(n_splits=5,shuffle=True,random_state=2)\n",
    "\n",
    "from sklearn.model_selection import GridSearchCV\n",
    "\n",
    "params = {'n_estimators' : [100,200,300],\n",
    "          'max_depth' : [10,20,30],\n",
    "          'max_features': [0.1,0.3,0.5,0.7],\n",
    "          'min_samples_split' : [2,5,10]}\n",
    "grid_search = GridSearchCV(RandomForestClassifier(),params,scoring='f1',cv=skf)\n",
    "grid_search.fit(X_train,y_train)"
   ]
  },
  {
   "cell_type": "code",
   "execution_count": null,
   "metadata": {
    "id": "It0XXvm2Mzgv"
   },
   "outputs": [],
   "source": [
    "print('그리드 서치 결과 가장 높은 f1 score : {}'.format(grid_search.best_score_))\n",
    "print('그리드 서치 결과 가장 좋은 초매개변수 : {}'.format(grid_search.best_params_))\n",
    "rf_grid_score = grid_search.score(X_test,y_test)\n",
    "print('테스트 데이터 f1 score : {}'.format(grid_search.score(X_test,y_test)))"
   ]
  },
  {
   "cell_type": "code",
   "execution_count": null,
   "metadata": {
    "id": "yjX_7fJsu-cL"
   },
   "outputs": [],
   "source": [
    "from sklearn.neighbors import KNeighborsClassifier\n",
    "params = {\n",
    "    'n_neighbors' : list(range(1,20)),\n",
    "    'weights' : [\"uniform\", \"distance\"],\n",
    "    'metric' : ['euclidean', 'manhattan', 'minkowski']\n",
    "}\n",
    "\n",
    "from sklearn.model_selection import StratifiedKFold\n",
    "skf = StratifiedKFold(n_splits=5,shuffle=True,random_state=2)\n",
    "\n",
    "from sklearn.model_selection import GridSearchCV\n",
    "\n",
    "grid_search = GridSearchCV(KNeighborsClassifier(),params,scoring='f1',cv=skf)\n",
    "grid_search.fit(X_train,y_train)\n",
    "print('그리드 서치 결과 가장 높은 f1 score : {}'.format(grid_search.best_score_))\n",
    "print('그리드 서치 결과 가장 좋은 초매개변수 : {}'.format(grid_search.best_params_))\n",
    "knn_grid_score = grid_search.score(X_test,y_test)\n",
    "print('테스트 데이터 f1 score : {}'.format(grid_search.score(X_test,y_test)))"
   ]
  },
  {
   "cell_type": "code",
   "execution_count": null,
   "metadata": {
    "id": "ssDcQ8c-5eLA"
   },
   "outputs": [],
   "source": []
  },
  {
   "cell_type": "code",
   "execution_count": null,
   "metadata": {
    "id": "kELchNlu0lSM"
   },
   "outputs": [],
   "source": [
    "from sklearn.linear_model import LogisticRegression \n",
    "from sklearn.model_selection import GridSearchCV\n",
    "params = {'C': [0.001, 0.01, 0.1, 1, 10, 100],\n",
    "              'penalty': ['l1', 'l2']}\n",
    "\n",
    "grid_search = GridSearchCV(LogisticRegression(),params,scoring='f1')\n",
    "grid_search.fit(X_train_border,y_train_border)\n",
    "print('그리드 서치 결과 가장 높은 f1 score : {}'.format(grid_search.best_score_))\n",
    "print('그리드 서치 결과 가장 좋은 초매개변수 : {}'.format(grid_search.best_params_))\n",
    "lr_grid_score = grid_search.score(X_test,y_test)\n",
    "print('테스트 데이터 f1 score : {}'.format(grid_search.score(X_test,y_test)))"
   ]
  },
  {
   "cell_type": "code",
   "execution_count": null,
   "metadata": {
    "id": "z95j2KMbBy2W"
   },
   "outputs": [],
   "source": []
  },
  {
   "cell_type": "code",
   "execution_count": null,
   "metadata": {
    "id": "3lm8NVjG5nZg"
   },
   "outputs": [],
   "source": []
  },
  {
   "cell_type": "markdown",
   "metadata": {
    "id": "z2J2ZHEm5nrI"
   },
   "source": [
    "## 스태킹 앙상블"
   ]
  },
  {
   "cell_type": "code",
   "execution_count": null,
   "metadata": {
    "id": "5k320s215nwC"
   },
   "outputs": [],
   "source": [
    "rf = RandomForestClassifier(n_estimators=100, random_state=0)\n",
    "ada = AdaBoostClassifier(n_estimators=100)\n",
    "xgb = XGBClassifier()\n",
    "\n",
    "# 위 모델들의 파라미터들은 GridSearchCV 이후 나온 파라미터들을 적용할 예정.\n",
    "\n",
    "\n",
    "def get_stacking_data(model, X_train, y_train, X_test, n_folds = 5 ):\n",
    "    stk = StratifiedKFold(n_split=n_folds,random_state=2)\n",
    "\n",
    "    #추후에 메타 모델이 사용할 학습 데이터 반환을 위한 넘파이 배열 초기화 \n",
    "    train_fold_pred = np.zeros((X_train.shape[0] ,1 ))\n",
    "    test_pred = np.zeros((X_test.shape[0],n_folds))\n",
    "\n",
    "    for cnt , (train_index, valid_index) in enumerate(skf.split(X_train,y_train)):\n",
    "        #입력된 학습 데이터에서 기반 모델이 학습/예측할 폴드 데이터 셋 추출 \n",
    "        X_tr = X_train[train_index] \n",
    "        y_tr = y_train[train_index] \n",
    "        X_te = X_train[valid_index]  \n",
    "\n",
    "        #폴드 세트 내부에서 다시 만들어진 학습 데이터로 기반 모델의 학습 수행.\n",
    "        model.fit(X_tr , y_tr)       \n",
    "        #폴드 세트 내부에서 다시 만들어진 검증 데이터로 기반 모델 예측 후 데이터 저장.\n",
    "        train_fold_pred[valid_index, :] = model.predict(X_te).reshape(-1,1)\n",
    "        #입력된 원본 테스트 데이터를 폴드 세트내 학습된 기반 모델에서 예측 후 데이터 저장. \n",
    "        test_pred[:, cnt] = model.predict(X_test)\n",
    "   \n",
    "    # 폴드 세트 내에서 원본 테스트 데이터를 예측한 데이터를 평균하여 테스트 데이터로 생성 \n",
    "    test_pred_mean = np.mean(test_pred, axis=1).reshape(-1,1)    \n",
    "\n",
    "    #train_fold_pred는 최종 메타 모델이 사용하는 학습 데이터, test_pred_mean은 테스트 데이터\n",
    "    return train_fold_pred , test_pred_mean\n",
    "\n",
    "\n",
    "rf_train, rf_test = get_stacking_data(rf, X_train, y_train, X_test, 5)\n",
    "xgb_train, xgb_test = get_stacking_data(xgb, X_train, y_train, X_test,  5)    \n",
    "ada_train, ada_test = get_stacking_data(ada, X_train, y_train, X_test, 5)\n",
    "\n",
    "Stack_final_X_train = np.concatenate((rf_train, xgb_train, ada_train), axis=1)\n",
    "Stack_final_X_test = np.concatenate((rf_test, xgb_test, ada_test), axis=1)\n",
    "print('원본 학습 피처 데이터 Shape:',X_train.shape, '원본 테스트 피처 Shape:',X_test.shape)\n",
    "print('스태킹 학습 피처 데이터 Shape:', Stack_final_X_train.shape,\n",
    "      '스태킹 테스트 피처 데이터 Shape:',Stack_final_X_test.shape)\n",
    "\n",
    "# 스태킹 앙상블"
   ]
  },
  {
   "cell_type": "code",
   "execution_count": null,
   "metadata": {
    "id": "-EkOuUQmB2LV"
   },
   "outputs": [],
   "source": [
    "lgbm.fit(Stack_final_X_train,y_train)\n",
    "stack_pred = lgbm.predict(Stack_final_X_test)\n",
    "print(classification_report(stack_pred,y_test))\n",
    "print(confusion_matrix(stack_pred,y_test))\n",
    "print(f1_score(stack_pred,y_test))\n",
    "print(roc_auc_score(stack_pred,y_test))\n",
    "\n",
    "# 스태킹 후 나온 최종 데이터들을 이용하여 LGBM 모델로 진행 예정."
   ]
  },
  {
   "cell_type": "code",
   "execution_count": null,
   "metadata": {},
   "outputs": [],
   "source": []
  },
  {
   "cell_type": "code",
   "execution_count": null,
   "metadata": {},
   "outputs": [],
   "source": []
  },
  {
   "cell_type": "code",
   "execution_count": null,
   "metadata": {},
   "outputs": [],
   "source": []
  },
  {
   "cell_type": "code",
   "execution_count": null,
   "metadata": {
    "id": "A5p2MW9LB2ek"
   },
   "outputs": [],
   "source": [
    "f1 = {'knn':knnscore,'rf':rfscore,'lr':lrscore,'knn_grid':knn_grid_score,'rf_grid':rf_grid_score,'lr':lr_grid_score}\n",
    "import matplotlib.pyplot as plt\n",
    "\n",
    "\n",
    "sort_dic = dict(sorted(f1.items(), key = lambda pair : pair[1], reverse = True ))\n",
    "print(sort_dic)\n",
    "names = list(sort_dic.keys())\n",
    "values = list(sort_dic.values())\n",
    "\n",
    "plt.barh(range(len(sort_dic)), values, tick_label=names)\n",
    "plt.show()"
   ]
  },
  {
   "cell_type": "code",
   "execution_count": null,
   "metadata": {},
   "outputs": [],
   "source": []
  },
  {
   "cell_type": "code",
   "execution_count": null,
   "metadata": {},
   "outputs": [],
   "source": []
  },
  {
   "cell_type": "code",
   "execution_count": null,
   "metadata": {},
   "outputs": [],
   "source": []
  },
  {
   "cell_type": "code",
   "execution_count": null,
   "metadata": {},
   "outputs": [],
   "source": []
  },
  {
   "cell_type": "code",
   "execution_count": 8,
   "metadata": {},
   "outputs": [],
   "source": [
    "list1 = ['a','b','c']\n",
    "dict1 = {'a':123,'b':234}\n",
    "list2 = {'d','e','f'}"
   ]
  },
  {
   "cell_type": "code",
   "execution_count": 5,
   "metadata": {},
   "outputs": [
    {
     "name": "stdout",
     "output_type": "stream",
     "text": [
      "['a', 'b', 'c'] {'a': 123, 'b': 234}\n"
     ]
    }
   ],
   "source": [
    "print(list1,dict1)"
   ]
  },
  {
   "cell_type": "code",
   "execution_count": null,
   "metadata": {},
   "outputs": [],
   "source": []
  },
  {
   "cell_type": "code",
   "execution_count": 12,
   "metadata": {},
   "outputs": [],
   "source": [
    "import pickle\n",
    " \n",
    "name = 'james'\n",
    "age = 17\n",
    "address = '서울시 서초구 반포동'\n",
    "scores = {'korean': 90, 'english': 95, 'mathematics': 85, 'science': 82}\n",
    " \n",
    "with open('james.p', 'wb') as file:    # james.p 파일을 바이너리 쓰기 모드(wb)로 열기\n",
    "    pickle.dump(name, file)\n",
    "    pickle.dump(age, file)\n",
    "    pickle.dump(address, file)\n",
    "    pickle.dump(scores, file)"
   ]
  },
  {
   "cell_type": "code",
   "execution_count": 13,
   "metadata": {},
   "outputs": [
    {
     "name": "stdout",
     "output_type": "stream",
     "text": [
      "james\n",
      "17\n",
      "서울시 서초구 반포동\n",
      "{'korean': 90, 'english': 95, 'mathematics': 85, 'science': 82}\n"
     ]
    }
   ],
   "source": [
    "import pickle\n",
    " \n",
    "with open('james.p', 'rb') as file:    # james.p 파일을 바이너리 읽기 모드(rb)로 열기\n",
    "    name = pickle.load(file)\n",
    "    age = pickle.load(file)\n",
    "    address = pickle.load(file)\n",
    "    scores = pickle.load(file)\n",
    "    print(name)\n",
    "    print(age)\n",
    "    print(address)\n",
    "    print(scores)"
   ]
  },
  {
   "cell_type": "code",
   "execution_count": null,
   "metadata": {},
   "outputs": [],
   "source": []
  },
  {
   "cell_type": "code",
   "execution_count": null,
   "metadata": {},
   "outputs": [],
   "source": []
  },
  {
   "cell_type": "code",
   "execution_count": null,
   "metadata": {},
   "outputs": [],
   "source": [
    "import pickle\n",
    "\n",
    "with open"
   ]
  }
 ],
 "metadata": {
  "colab": {
   "authorship_tag": "ABX9TyMrCb8MO98nIcagcBUPdqIK",
   "machine_shape": "hm",
   "provenance": [
    {
     "file_id": "18mWzn044TThNt-TjwhvkR25ggQZvKAly",
     "timestamp": 1667122144806
    }
   ]
  },
  "gpuClass": "premium",
  "kernelspec": {
   "display_name": "Python 3 (ipykernel)",
   "language": "python",
   "name": "python3"
  },
  "language_info": {
   "codemirror_mode": {
    "name": "ipython",
    "version": 3
   },
   "file_extension": ".py",
   "mimetype": "text/x-python",
   "name": "python",
   "nbconvert_exporter": "python",
   "pygments_lexer": "ipython3",
   "version": "3.10.7"
  }
 },
 "nbformat": 4,
 "nbformat_minor": 1
}
